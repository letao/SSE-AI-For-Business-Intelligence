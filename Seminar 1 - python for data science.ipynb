{
  "cells": [
    {
      "cell_type": "markdown",
      "metadata": {
        "id": "WBR_MJbSK6sB"
      },
      "source": [
        "# Introduction to Python language for data science\n",
        "\n",
        "*   **Python**\n",
        "  \n",
        "  Python is a high level programming language that supports multiple paradigms.\n",
        "  * Structured programming (it uses if/else/then statements, block structures and subordinates),\n",
        "  * Object oriented programming (it uses objects that contain data or code)\n",
        "  * Functional programming (programms are constructed by applying and creating functions).\n",
        "\n",
        "<br>\n",
        "\n",
        "Python features a high level of abstraction. Many operations that are explicit in lower-level languages (e.g., C/C++) are implicit in Python (memory allocation, garbage collection, etc.). In short - Python lets you write code faster.\n",
        "\n",
        "\n",
        "![jupyter.png](https://journaldev.nyc3.digitaloceanspaces.com/2019/09/process-abstraction.png)\n",
        "\n",
        "\n",
        "Abstraction is the process of hiding the internal details of an application from the outer world. Abstraction is used to describe things in simple terms.\n",
        "\n",
        "<br>\n",
        "\n",
        "Python is a General-purpose language meaning that you can do almost anything (in terms of programming) in Python.\n",
        "\n",
        "* Comprehensive standard library\n",
        "* Enormous ecosystem of third-party packages\n",
        "* Widely used in many areas of software development (web, dev-ops, data science, etc.)"
      ]
    },
    {
      "cell_type": "markdown",
      "metadata": {
        "id": "ssUuhIahK93e"
      },
      "source": [
        "## Variables and data types\n",
        "\n",
        "* Python supports a variety of data types and structures\n",
        "  * numbers (int, float)\n",
        "  * strings (combnination of characters)\n",
        "  * booleans (true or flase)\n",
        "  * lists (sets of elements)\n",
        "  * dictionaries (key and value pairs)\n",
        "  * many others"
      ]
    },
    {
      "cell_type": "markdown",
      "metadata": {
        "id": "WE0MhyjrLQPT"
      },
      "source": [
        "Basic data types - **numbers**, can be used for arithmetic operations"
      ]
    },
    {
      "cell_type": "code",
      "execution_count": null,
      "metadata": {
        "colab": {
          "base_uri": "https://localhost:8080/"
        },
        "id": "g1BNgbYgLQzu",
        "outputId": "ec8afacb-19e0-4244-e48e-0e2a4f03c280"
      },
      "outputs": [],
      "source": [
        "# Int or integer\n",
        "number = 15\n",
        "number"
      ]
    },
    {
      "cell_type": "code",
      "execution_count": null,
      "metadata": {
        "colab": {
          "base_uri": "https://localhost:8080/"
        },
        "id": "V6amXmTELRWQ",
        "outputId": "6680748a-cbb4-4c31-d566-5b0ea9600b4e"
      },
      "outputs": [],
      "source": [
        "# Floats\n",
        "pi_rounded = 3.1416\n",
        "pi_rounded"
      ]
    },
    {
      "cell_type": "code",
      "execution_count": null,
      "metadata": {
        "colab": {
          "base_uri": "https://localhost:8080/"
        },
        "id": "GIcZIt6bLRvl",
        "outputId": "f28d2f59-87bd-4533-8a30-0eeadfbec9dc"
      },
      "outputs": [],
      "source": [
        "number * pi_rounded"
      ]
    },
    {
      "cell_type": "markdown",
      "metadata": {
        "id": "-oKNZULRLXb7"
      },
      "source": [
        "Basic data types - **strings** used to store text, can be delimited using either single quotes or double quotes"
      ]
    },
    {
      "cell_type": "code",
      "execution_count": null,
      "metadata": {
        "colab": {
          "base_uri": "https://localhost:8080/",
          "height": 35
        },
        "id": "lrmi1ZgaLZ5o",
        "outputId": "7c165274-d983-446e-c7d1-ddcf7ed57ad2"
      },
      "outputs": [],
      "source": [
        "string = \"some text\"\n",
        "string"
      ]
    },
    {
      "cell_type": "code",
      "execution_count": null,
      "metadata": {
        "colab": {
          "base_uri": "https://localhost:8080/",
          "height": 193
        },
        "id": "-49jHRpILaJC",
        "outputId": "6f9a908c-42d7-4108-eb6c-e6f5ed9f1c8f"
      },
      "outputs": [],
      "source": [
        "# strings cannot be combined with ints or floats\n",
        "string + number"
      ]
    },
    {
      "cell_type": "code",
      "execution_count": null,
      "metadata": {
        "colab": {
          "base_uri": "https://localhost:8080/",
          "height": 35
        },
        "id": "wtXGQEhqLait",
        "outputId": "690fc4f9-7958-4530-f7cb-1f95832074e1"
      },
      "outputs": [],
      "source": [
        "# we can combine strings with other strings\n",
        "string_2 = \"more text\"\n",
        "string + \", \" + string_2"
      ]
    },
    {
      "cell_type": "markdown",
      "metadata": {
        "id": "3SGI_6OTLfW4"
      },
      "source": [
        "Basic data types - **lists**, ordered collection of objects, list elements can be accessed by position, list elements can also be appended later"
      ]
    },
    {
      "cell_type": "code",
      "execution_count": null,
      "metadata": {
        "colab": {
          "base_uri": "https://localhost:8080/"
        },
        "id": "Sio9RVRmLjsd",
        "outputId": "c1e642cd-41bf-4082-cf1c-593182c01b61"
      },
      "outputs": [],
      "source": [
        "# definition of an empty list\n",
        "my_list = []\n",
        "my_list"
      ]
    },
    {
      "cell_type": "code",
      "execution_count": null,
      "metadata": {
        "colab": {
          "base_uri": "https://localhost:8080/"
        },
        "id": "ip3nGudwLkAz",
        "outputId": "28ec1e07-23e5-49c6-b30b-d4c23f7d8fcb"
      },
      "outputs": [],
      "source": [
        "# definition of a list with elements\n",
        "my_list = [1, 2, 3]\n",
        "my_list"
      ]
    },
    {
      "cell_type": "code",
      "execution_count": null,
      "metadata": {
        "colab": {
          "base_uri": "https://localhost:8080/"
        },
        "id": "N7VhuD4oLkVT",
        "outputId": "4882062f-4f92-44d5-8b55-4d741b6e6cf9"
      },
      "outputs": [],
      "source": [
        "# adding integer 4 to the list\n",
        "my_list.append(4)\n",
        "my_list"
      ]
    },
    {
      "cell_type": "code",
      "execution_count": null,
      "metadata": {
        "colab": {
          "base_uri": "https://localhost:8080/"
        },
        "id": "wOdeo0kFLknS",
        "outputId": "c177910a-a8c3-4187-b494-edaf26c8140b"
      },
      "outputs": [],
      "source": [
        "# accessing 3rd element of the list (indexing starts from 0)\n",
        "my_list[2]\n"
      ]
    },
    {
      "cell_type": "code",
      "execution_count": null,
      "metadata": {
        "colab": {
          "base_uri": "https://localhost:8080/"
        },
        "id": "T8UJy9xYLk-T",
        "outputId": "29cfd6ad-b2ed-4ca2-a8c8-39023b0a5963"
      },
      "outputs": [],
      "source": [
        "# insert element, 9 in the first position\n",
        "my_list.insert(0, 9)\n",
        "my_list"
      ]
    },
    {
      "cell_type": "markdown",
      "metadata": {
        "id": "XPzRGiAbLxVw"
      },
      "source": [
        "**Dictionaries (dict)** unordered key-value pair collections, we can access each element by their key not their *position*"
      ]
    },
    {
      "cell_type": "code",
      "execution_count": null,
      "metadata": {
        "colab": {
          "base_uri": "https://localhost:8080/"
        },
        "id": "DW0Z5Z_kL1Y4",
        "outputId": "a1a34620-d26f-42a3-8a30-18f7b05ad2a1"
      },
      "outputs": [],
      "source": [
        "fruit_prices = {\n",
        "    'apple': 0.65,\n",
        "    'mango': 1.50\n",
        "}\n",
        "\n",
        "fruit_prices"
      ]
    },
    {
      "cell_type": "code",
      "execution_count": null,
      "metadata": {
        "colab": {
          "base_uri": "https://localhost:8080/"
        },
        "id": "ne28Qfp3L2Rc",
        "outputId": "546ac4bd-3d10-4ece-c129-66def2badd1e"
      },
      "outputs": [],
      "source": [
        "# we can combine various data types inside the dictionary for different key-value pairs\n",
        "fruit_prices = {\n",
        "    'apple': 0.65,\n",
        "    'mango': 1.50,\n",
        "    'strawberry': '$3/kg',\n",
        "    'durian': 'unavailable'\n",
        "}\n",
        "\n",
        "fruit_prices"
      ]
    },
    {
      "cell_type": "code",
      "execution_count": null,
      "metadata": {
        "id": "-pG1LdEPL4jC"
      },
      "outputs": [],
      "source": [
        "# How to retrieve only the price of an apple?\n",
        "# <code here>"
      ]
    },
    {
      "cell_type": "code",
      "execution_count": null,
      "metadata": {
        "id": "jEONxGgpL6Aj"
      },
      "outputs": [],
      "source": [
        "# Add a new entry for oranges\n",
        "# <code here>"
      ]
    },
    {
      "cell_type": "markdown",
      "metadata": {
        "id": "qQXh2tpfL625"
      },
      "source": [
        "**Booleans** are special data types that can have only two possible values True or Flase. They can be used to know if a value is true or false which is often important in programming."
      ]
    },
    {
      "cell_type": "code",
      "execution_count": null,
      "metadata": {
        "id": "JtHgEVU8L9UQ"
      },
      "outputs": [],
      "source": [
        "variable = 11\n",
        "x = variable < 0\n",
        "x"
      ]
    },
    {
      "cell_type": "code",
      "execution_count": null,
      "metadata": {
        "id": "Fq9b8zojL_zd"
      },
      "outputs": [],
      "source": [
        "# Change the evaluation to produce a True value\n",
        "# <code here>"
      ]
    },
    {
      "cell_type": "markdown",
      "metadata": {
        "id": "SbwXZS7DMAeO"
      },
      "source": [
        "Everything is an object in Python. All of these 'data types' are actually just objects in Python. The operations you can perform with a variable depend on the object's definition, e.g., the multiplication operator * is defined for some objects but not others."
      ]
    },
    {
      "cell_type": "markdown",
      "metadata": {
        "id": "VdXMgZ9-MFcu"
      },
      "source": [
        "## Conditional statements (if-else)\n",
        "\n",
        "Conditionals are a way to execute code depending on whether a condition is True or False. Python supports three types of conditioanls 'if', 'else' and 'elif' which stends for else if."
      ]
    },
    {
      "cell_type": "code",
      "execution_count": null,
      "metadata": {
        "colab": {
          "base_uri": "https://localhost:8080/"
        },
        "id": "JUBar-sIMH-8",
        "outputId": "9717bf22-981c-4f21-fadb-8ad0049eb184"
      },
      "outputs": [],
      "source": [
        "variable = 1\n",
        "\n",
        "if variable < 0:\n",
        "  print('negative')\n",
        "elif variable == 0:\n",
        "  print('null')\n",
        "else:\n",
        "  print('positive')"
      ]
    },
    {
      "cell_type": "markdown",
      "metadata": {
        "id": "cr6FdGJfMKq_"
      },
      "source": [
        "## Loops\n",
        "\n",
        "Loops allow us to execute a block of code multiple times iterating over elements. There are two ways to structure loops in Pythong, for loops that run over each element (for example in a list) or while loops that run until a condition is met."
      ]
    },
    {
      "cell_type": "code",
      "execution_count": null,
      "metadata": {
        "colab": {
          "base_uri": "https://localhost:8080/"
        },
        "id": "tKcNhsxwMN7s",
        "outputId": "bbf0e6d3-3c14-41eb-9ace-b564fde0fd1d"
      },
      "outputs": [],
      "source": [
        "my_list = [1, 2, 3]\n",
        "\n",
        "# for loop that prints all the elements in the list\n",
        "for i in range(len(my_list)):\n",
        "  print(my_list[i])"
      ]
    },
    {
      "cell_type": "code",
      "execution_count": null,
      "metadata": {
        "colab": {
          "base_uri": "https://localhost:8080/"
        },
        "id": "mF3WBiorMOcF",
        "outputId": "6464a99a-002e-4575-aa12-37d19a2550e2"
      },
      "outputs": [],
      "source": [
        "i = 0\n",
        "\n",
        "# while loop that prints all elements in the list as long as there are more than 1 element left in the list\n",
        "while i < len(my_list) - 1:\n",
        "  print(my_list[i])\n",
        "  i += 1 # equivalent to i = i + 1"
      ]
    },
    {
      "cell_type": "markdown",
      "metadata": {
        "id": "KBRl2Pb0MSzK"
      },
      "source": [
        "## Functions\n",
        "\n",
        "To improve code readability, it is common to separate the code into different blocks (functions), responsible for performing precise actions.\n",
        "\n",
        "Functions only runs when explicitly called e.g. **read_csv('test_file.csv')**. Functions can accept arguments (parameters) that modify how they behave. They can also accept multiple inputs and return outputs (single or a tuple that can look like multiple objects)."
      ]
    },
    {
      "cell_type": "code",
      "execution_count": 23,
      "metadata": {
        "id": "Fgpx2-3KMWaZ"
      },
      "outputs": [],
      "source": [
        "# Function to squre a number\n",
        "def square(x):\n",
        "  return x ** 2\n",
        "\n",
        "# Function to multiply two number\n",
        "def multiply(a, b):\n",
        "  return a * b"
      ]
    },
    {
      "cell_type": "code",
      "execution_count": null,
      "metadata": {
        "colab": {
          "base_uri": "https://localhost:8080/"
        },
        "id": "Ov3qhB7UMWuK",
        "outputId": "7527ee04-a079-4e70-a636-f169a77d195f"
      },
      "outputs": [],
      "source": [
        "square(3)"
      ]
    },
    {
      "cell_type": "code",
      "execution_count": null,
      "metadata": {
        "colab": {
          "base_uri": "https://localhost:8080/"
        },
        "id": "ty-VCrQpMXBV",
        "outputId": "655ede5b-1be9-4669-9500-e7607026bea1"
      },
      "outputs": [],
      "source": [
        "multiply(a = 3, b = 2)"
      ]
    },
    {
      "cell_type": "code",
      "execution_count": null,
      "metadata": {
        "colab": {
          "base_uri": "https://localhost:8080/"
        },
        "id": "21HmNahhMa6D",
        "outputId": "d09bf7e1-40b9-460e-9985-1082dc4fecf5"
      },
      "outputs": [],
      "source": [
        "# Functions can be composed.\n",
        "square(multiply(3, 2))"
      ]
    },
    {
      "cell_type": "markdown",
      "metadata": {
        "id": "b0xPnx0LMde2"
      },
      "source": [
        "## Structured and unstructured data\n",
        "\n",
        "There are multiple ways to refer to data and its types (in statistical sense  categorical vs numerical, in computer langauges primitive vs non-primitive). In data science or data governance we can talk about structured vs unstructured data (sometimes also semi/quasi-structured data).\n",
        "\n",
        "<br>\n",
        "\n",
        "* **Differences between structured, unstructured and semi/quasi-structured data**\n",
        "\n",
        "![jupyter.png](https://monkeylearn.com/static/306f5989991713a9d77314a514e161c2/899e8/image5.webp)\n",
        "\n",
        "Structured data is usually provided in a table format with a specific structure of rows and columns. Data Base tables, excel sheets and csv files are the prime examples of structured data. This data has a clear defined framework.\n",
        "\n",
        "Unstructured data are usually text heavy entities like documents or text entries and are not organized in a clear defined framework and lack a data model. PDF and word documents are prime examples of this.\n",
        "\n",
        "Semi/quasi-structured data is usually lously organized unstructured data or specific elements of dictionaries or key value pair entries, e.g. JSON and XML files.\n",
        "\n",
        "<br>\n",
        "\n",
        "* **The scale of unstructured data**\n",
        "\n",
        "Vast majority of data that is exists is unstructured and only a very small portion of company data is structured. However, structured data arguably holds the most value as this is often heavily operationalized data, financial transaction data, customer information, employee information, geolocation data, etc.\n",
        "\n",
        "![jupyter.png](https://www.i-scoop.eu/wp-content/uploads/2016/08/Various-forms-of-data-unstructured-data-requires-artificial-intelligence-to-make-business-sense.jpg)\n",
        "\n",
        "Value of unstructured data is changing with more powerful NLP (natural language processing) techniques, such as Transformer based Large Language Models. With Machine learning techniques and additional tools it is easier to extract information from unstructured data sets.\n",
        "\n"
      ]
    },
    {
      "cell_type": "markdown",
      "metadata": {
        "id": "OPEaXwwCMk7_"
      },
      "source": [
        "## Introduction to pandas and data frames\n",
        "\n",
        "Pandas is a python package for data manipulation and analysis, it is primarily used to manipulate data frames - structured data in table format.\n",
        "\n",
        "* It simplifies common data manipulation tasks (via abstractions)\n",
        "* It is relatively fast and simple to use\n",
        "\n",
        "Main functionality\n",
        "\n",
        "* Load data from various file types and online sources\n",
        "* Filter, sort, edit and process data\n",
        "* Specific tools to use on time series analysis\n",
        "* ability to display data in tables and charts"
      ]
    },
    {
      "cell_type": "markdown",
      "metadata": {
        "id": "wDqTI6zAMoHN"
      },
      "source": [
        "Pandas can be installed by using pip however, in colab it is already provided and can be imported with the 'import' command."
      ]
    },
    {
      "cell_type": "code",
      "execution_count": 27,
      "metadata": {
        "id": "DBaQAnFrMdSk"
      },
      "outputs": [],
      "source": [
        "# we call the imported package pd for easier reference later\n",
        "import pandas as pd"
      ]
    },
    {
      "cell_type": "code",
      "execution_count": null,
      "metadata": {
        "colab": {
          "base_uri": "https://localhost:8080/"
        },
        "id": "Tlzj3_vJMqbY",
        "outputId": "da17e212-a66b-44ec-8b16-3d2944876eff"
      },
      "outputs": [],
      "source": [
        "# to access data from our google drive we need to connect it to our colab notebook\n",
        "from google.colab import drive\n",
        "drive.mount('/content/gdrive')"
      ]
    },
    {
      "cell_type": "code",
      "execution_count": null,
      "metadata": {
        "colab": {
          "base_uri": "https://localhost:8080/"
        },
        "id": "fgzkA4vMMr4O",
        "outputId": "7fbc08dc-02a0-4fce-dd5d-32b96f61ae63"
      },
      "outputs": [],
      "source": [
        "! ls"
      ]
    },
    {
      "cell_type": "code",
      "execution_count": null,
      "metadata": {
        "colab": {
          "base_uri": "https://localhost:8080/"
        },
        "id": "FzFjajsOMubG",
        "outputId": "be8ecc22-a6e1-44c9-e49d-26514190e644"
      },
      "outputs": [],
      "source": [
        "%cd gdrive/MyDrive/<your folder location here>"
      ]
    },
    {
      "cell_type": "code",
      "execution_count": null,
      "metadata": {
        "id": "0-AzXCjtRNur"
      },
      "outputs": [],
      "source": [
        "%cd SSE-AI-For-Business-Intelligence"
      ]
    },
    {
      "cell_type": "code",
      "execution_count": null,
      "metadata": {
        "colab": {
          "base_uri": "https://localhost:8080/"
        },
        "id": "LD68ha5aMwUO",
        "outputId": "243c7810-b096-4704-ef7c-82326ec27c3a"
      },
      "outputs": [],
      "source": [
        "! ls"
      ]
    },
    {
      "cell_type": "markdown",
      "metadata": {
        "id": "A0GUqw1AMxWP"
      },
      "source": [
        "We can read a simpel csv file by using the read_csv() function in pandas. pd = pandas.\n",
        "\n",
        "the function read_csv() has only one parameter - the location of the file\n",
        "the result of this call is a data frame object that we name 'df'"
      ]
    },
    {
      "cell_type": "code",
      "execution_count": 32,
      "metadata": {
        "id": "TpiueyRSMz1_"
      },
      "outputs": [],
      "source": [
        "df = pd.read_csv('data/titanic.csv')"
      ]
    },
    {
      "cell_type": "markdown",
      "metadata": {
        "id": "HyqHFtw1M2pE"
      },
      "source": [
        "We can use multiple methods from the pandas library that are associated with data frame object to explore its contents.\n",
        "* .head() returns by default top 5 rows of the data frame\n",
        "* .tail() functions in the same way as .head() but returns the last 5 rows\n",
        "* .sample() allows us to show random n rows from the data frame"
      ]
    },
    {
      "cell_type": "code",
      "execution_count": null,
      "metadata": {
        "colab": {
          "base_uri": "https://localhost:8080/",
          "height": 206
        },
        "id": "Hyjx0X6fM43Y",
        "outputId": "e1505171-2f25-4176-ccb8-6a47812e636f"
      },
      "outputs": [],
      "source": [
        "df.head()"
      ]
    },
    {
      "cell_type": "markdown",
      "metadata": {
        "id": "TOjzqB_XM6eY"
      },
      "source": [
        "## Who were the Titanic passangers?\n",
        "\n",
        "For our data frame we have used the titanic data set which gives us information about the passangers onboard the Titanic and finally whether they survived their voyage or not.\n",
        "\n",
        "<br>\n",
        "\n",
        "**Variable Notes**\n",
        "*  **survived** Survived (1) or died (0)\n",
        "* **pclass** Passenger's class (1st, 2nd, or 3rd)\n",
        "* **sex** Passenger's sex\n",
        "* **age** Passenger's age\n",
        "* **sibsp** Number of siblings/spouses aboard the Titanic\n",
        "* **parch** Number of parents/children aboard the Titanic\n",
        "* **fare** Fare paid for the ticket\n",
        "* **embarked** Initial of the town where the passenger got on the ship\n",
        "* **class** The class in which passenger resided\n",
        "* **deck** Deck on which the passenger resided\n",
        "* **embark_town** Where the passenger got on the ship\n",
        "* **alive** Whether the person survived (yes) or died (no)"
      ]
    },
    {
      "cell_type": "code",
      "execution_count": null,
      "metadata": {
        "colab": {
          "base_uri": "https://localhost:8080/",
          "height": 206
        },
        "id": "pKLW2WJgM7n4",
        "outputId": "11fa374b-c8da-4e4a-ce87-e3789b2c1e4d"
      },
      "outputs": [],
      "source": [
        "df.tail()"
      ]
    },
    {
      "cell_type": "code",
      "execution_count": null,
      "metadata": {
        "colab": {
          "base_uri": "https://localhost:8080/",
          "height": 300
        },
        "id": "kfIIROKyNAMu",
        "outputId": "eafb2b05-2c8e-4789-b2a1-e93e6561febd"
      },
      "outputs": [],
      "source": [
        "df.sample(8)"
      ]
    },
    {
      "cell_type": "markdown",
      "metadata": {
        "id": "T88DmJnDNMSz"
      },
      "source": [
        "* **What's a DataFrame?**\n",
        "<img src=\"data:image/png;base64,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\"  alt=\"DataFrame\" class=\"wide\">"
      ]
    },
    {
      "cell_type": "markdown",
      "metadata": {
        "id": "8ddjacHuNVfA"
      },
      "source": [
        "* .info() method shows data type and missing value information for each colum\n",
        "* .describe() gives statistical infromation for numeric value columns in the data frame"
      ]
    },
    {
      "cell_type": "code",
      "execution_count": null,
      "metadata": {
        "colab": {
          "base_uri": "https://localhost:8080/"
        },
        "id": "ACaigFhONX0E",
        "outputId": "f3fe0f37-b2d9-4db7-d2d9-b1fb4341c1bb"
      },
      "outputs": [],
      "source": [
        "df.info()"
      ]
    },
    {
      "cell_type": "code",
      "execution_count": 38,
      "metadata": {
        "colab": {
          "base_uri": "https://localhost:8080/",
          "height": 300
        },
        "id": "dwFv5gvxNYhy",
        "outputId": "f3a2465d-71a6-4933-e0df-a211aff6e7b3"
      },
      "outputs": [
        {
          "data": {
            "text/html": [
              "\n",
              "  <div id=\"df-c475b6e6-fbeb-4e2f-b70e-f49306df616b\" class=\"colab-df-container\">\n",
              "    <div>\n",
              "<style scoped>\n",
              "    .dataframe tbody tr th:only-of-type {\n",
              "        vertical-align: middle;\n",
              "    }\n",
              "\n",
              "    .dataframe tbody tr th {\n",
              "        vertical-align: top;\n",
              "    }\n",
              "\n",
              "    .dataframe thead th {\n",
              "        text-align: right;\n",
              "    }\n",
              "</style>\n",
              "<table border=\"1\" class=\"dataframe\">\n",
              "  <thead>\n",
              "    <tr style=\"text-align: right;\">\n",
              "      <th></th>\n",
              "      <th>survived</th>\n",
              "      <th>pclass</th>\n",
              "      <th>age</th>\n",
              "      <th>sibsp</th>\n",
              "      <th>parch</th>\n",
              "      <th>fare</th>\n",
              "    </tr>\n",
              "  </thead>\n",
              "  <tbody>\n",
              "    <tr>\n",
              "      <th>count</th>\n",
              "      <td>891.000000</td>\n",
              "      <td>891.000000</td>\n",
              "      <td>714.000000</td>\n",
              "      <td>891.000000</td>\n",
              "      <td>891.000000</td>\n",
              "      <td>891.000000</td>\n",
              "    </tr>\n",
              "    <tr>\n",
              "      <th>mean</th>\n",
              "      <td>0.383838</td>\n",
              "      <td>2.308642</td>\n",
              "      <td>29.699118</td>\n",
              "      <td>0.523008</td>\n",
              "      <td>0.381594</td>\n",
              "      <td>32.204208</td>\n",
              "    </tr>\n",
              "    <tr>\n",
              "      <th>std</th>\n",
              "      <td>0.486592</td>\n",
              "      <td>0.836071</td>\n",
              "      <td>14.526497</td>\n",
              "      <td>1.102743</td>\n",
              "      <td>0.806057</td>\n",
              "      <td>49.693429</td>\n",
              "    </tr>\n",
              "    <tr>\n",
              "      <th>min</th>\n",
              "      <td>0.000000</td>\n",
              "      <td>1.000000</td>\n",
              "      <td>0.420000</td>\n",
              "      <td>0.000000</td>\n",
              "      <td>0.000000</td>\n",
              "      <td>0.000000</td>\n",
              "    </tr>\n",
              "    <tr>\n",
              "      <th>25%</th>\n",
              "      <td>0.000000</td>\n",
              "      <td>2.000000</td>\n",
              "      <td>20.125000</td>\n",
              "      <td>0.000000</td>\n",
              "      <td>0.000000</td>\n",
              "      <td>7.910400</td>\n",
              "    </tr>\n",
              "    <tr>\n",
              "      <th>50%</th>\n",
              "      <td>0.000000</td>\n",
              "      <td>3.000000</td>\n",
              "      <td>28.000000</td>\n",
              "      <td>0.000000</td>\n",
              "      <td>0.000000</td>\n",
              "      <td>14.454200</td>\n",
              "    </tr>\n",
              "    <tr>\n",
              "      <th>75%</th>\n",
              "      <td>1.000000</td>\n",
              "      <td>3.000000</td>\n",
              "      <td>38.000000</td>\n",
              "      <td>1.000000</td>\n",
              "      <td>0.000000</td>\n",
              "      <td>31.000000</td>\n",
              "    </tr>\n",
              "    <tr>\n",
              "      <th>max</th>\n",
              "      <td>1.000000</td>\n",
              "      <td>3.000000</td>\n",
              "      <td>80.000000</td>\n",
              "      <td>8.000000</td>\n",
              "      <td>6.000000</td>\n",
              "      <td>512.329200</td>\n",
              "    </tr>\n",
              "  </tbody>\n",
              "</table>\n",
              "</div>\n",
              "    <div class=\"colab-df-buttons\">\n",
              "\n",
              "  <div class=\"colab-df-container\">\n",
              "    <button class=\"colab-df-convert\" onclick=\"convertToInteractive('df-c475b6e6-fbeb-4e2f-b70e-f49306df616b')\"\n",
              "            title=\"Convert this dataframe to an interactive table.\"\n",
              "            style=\"display:none;\">\n",
              "\n",
              "  <svg xmlns=\"http://www.w3.org/2000/svg\" height=\"24px\" viewBox=\"0 -960 960 960\">\n",
              "    <path d=\"M120-120v-720h720v720H120Zm60-500h600v-160H180v160Zm220 220h160v-160H400v160Zm0 220h160v-160H400v160ZM180-400h160v-160H180v160Zm440 0h160v-160H620v160ZM180-180h160v-160H180v160Zm440 0h160v-160H620v160Z\"/>\n",
              "  </svg>\n",
              "    </button>\n",
              "\n",
              "  <style>\n",
              "    .colab-df-container {\n",
              "      display:flex;\n",
              "      gap: 12px;\n",
              "    }\n",
              "\n",
              "    .colab-df-convert {\n",
              "      background-color: #E8F0FE;\n",
              "      border: none;\n",
              "      border-radius: 50%;\n",
              "      cursor: pointer;\n",
              "      display: none;\n",
              "      fill: #1967D2;\n",
              "      height: 32px;\n",
              "      padding: 0 0 0 0;\n",
              "      width: 32px;\n",
              "    }\n",
              "\n",
              "    .colab-df-convert:hover {\n",
              "      background-color: #E2EBFA;\n",
              "      box-shadow: 0px 1px 2px rgba(60, 64, 67, 0.3), 0px 1px 3px 1px rgba(60, 64, 67, 0.15);\n",
              "      fill: #174EA6;\n",
              "    }\n",
              "\n",
              "    .colab-df-buttons div {\n",
              "      margin-bottom: 4px;\n",
              "    }\n",
              "\n",
              "    [theme=dark] .colab-df-convert {\n",
              "      background-color: #3B4455;\n",
              "      fill: #D2E3FC;\n",
              "    }\n",
              "\n",
              "    [theme=dark] .colab-df-convert:hover {\n",
              "      background-color: #434B5C;\n",
              "      box-shadow: 0px 1px 3px 1px rgba(0, 0, 0, 0.15);\n",
              "      filter: drop-shadow(0px 1px 2px rgba(0, 0, 0, 0.3));\n",
              "      fill: #FFFFFF;\n",
              "    }\n",
              "  </style>\n",
              "\n",
              "    <script>\n",
              "      const buttonEl =\n",
              "        document.querySelector('#df-c475b6e6-fbeb-4e2f-b70e-f49306df616b button.colab-df-convert');\n",
              "      buttonEl.style.display =\n",
              "        google.colab.kernel.accessAllowed ? 'block' : 'none';\n",
              "\n",
              "      async function convertToInteractive(key) {\n",
              "        const element = document.querySelector('#df-c475b6e6-fbeb-4e2f-b70e-f49306df616b');\n",
              "        const dataTable =\n",
              "          await google.colab.kernel.invokeFunction('convertToInteractive',\n",
              "                                                    [key], {});\n",
              "        if (!dataTable) return;\n",
              "\n",
              "        const docLinkHtml = 'Like what you see? Visit the ' +\n",
              "          '<a target=\"_blank\" href=https://colab.research.google.com/notebooks/data_table.ipynb>data table notebook</a>'\n",
              "          + ' to learn more about interactive tables.';\n",
              "        element.innerHTML = '';\n",
              "        dataTable['output_type'] = 'display_data';\n",
              "        await google.colab.output.renderOutput(dataTable, element);\n",
              "        const docLink = document.createElement('div');\n",
              "        docLink.innerHTML = docLinkHtml;\n",
              "        element.appendChild(docLink);\n",
              "      }\n",
              "    </script>\n",
              "  </div>\n",
              "\n",
              "\n",
              "<div id=\"df-9ef9ab43-3c31-4d11-9c69-40f699ec3825\">\n",
              "  <button class=\"colab-df-quickchart\" onclick=\"quickchart('df-9ef9ab43-3c31-4d11-9c69-40f699ec3825')\"\n",
              "            title=\"Suggest charts.\"\n",
              "            style=\"display:none;\">\n",
              "\n",
              "<svg xmlns=\"http://www.w3.org/2000/svg\" height=\"24px\"viewBox=\"0 0 24 24\"\n",
              "     width=\"24px\">\n",
              "    <g>\n",
              "        <path d=\"M19 3H5c-1.1 0-2 .9-2 2v14c0 1.1.9 2 2 2h14c1.1 0 2-.9 2-2V5c0-1.1-.9-2-2-2zM9 17H7v-7h2v7zm4 0h-2V7h2v10zm4 0h-2v-4h2v4z\"/>\n",
              "    </g>\n",
              "</svg>\n",
              "  </button>\n",
              "\n",
              "<style>\n",
              "  .colab-df-quickchart {\n",
              "      --bg-color: #E8F0FE;\n",
              "      --fill-color: #1967D2;\n",
              "      --hover-bg-color: #E2EBFA;\n",
              "      --hover-fill-color: #174EA6;\n",
              "      --disabled-fill-color: #AAA;\n",
              "      --disabled-bg-color: #DDD;\n",
              "  }\n",
              "\n",
              "  [theme=dark] .colab-df-quickchart {\n",
              "      --bg-color: #3B4455;\n",
              "      --fill-color: #D2E3FC;\n",
              "      --hover-bg-color: #434B5C;\n",
              "      --hover-fill-color: #FFFFFF;\n",
              "      --disabled-bg-color: #3B4455;\n",
              "      --disabled-fill-color: #666;\n",
              "  }\n",
              "\n",
              "  .colab-df-quickchart {\n",
              "    background-color: var(--bg-color);\n",
              "    border: none;\n",
              "    border-radius: 50%;\n",
              "    cursor: pointer;\n",
              "    display: none;\n",
              "    fill: var(--fill-color);\n",
              "    height: 32px;\n",
              "    padding: 0;\n",
              "    width: 32px;\n",
              "  }\n",
              "\n",
              "  .colab-df-quickchart:hover {\n",
              "    background-color: var(--hover-bg-color);\n",
              "    box-shadow: 0 1px 2px rgba(60, 64, 67, 0.3), 0 1px 3px 1px rgba(60, 64, 67, 0.15);\n",
              "    fill: var(--button-hover-fill-color);\n",
              "  }\n",
              "\n",
              "  .colab-df-quickchart-complete:disabled,\n",
              "  .colab-df-quickchart-complete:disabled:hover {\n",
              "    background-color: var(--disabled-bg-color);\n",
              "    fill: var(--disabled-fill-color);\n",
              "    box-shadow: none;\n",
              "  }\n",
              "\n",
              "  .colab-df-spinner {\n",
              "    border: 2px solid var(--fill-color);\n",
              "    border-color: transparent;\n",
              "    border-bottom-color: var(--fill-color);\n",
              "    animation:\n",
              "      spin 1s steps(1) infinite;\n",
              "  }\n",
              "\n",
              "  @keyframes spin {\n",
              "    0% {\n",
              "      border-color: transparent;\n",
              "      border-bottom-color: var(--fill-color);\n",
              "      border-left-color: var(--fill-color);\n",
              "    }\n",
              "    20% {\n",
              "      border-color: transparent;\n",
              "      border-left-color: var(--fill-color);\n",
              "      border-top-color: var(--fill-color);\n",
              "    }\n",
              "    30% {\n",
              "      border-color: transparent;\n",
              "      border-left-color: var(--fill-color);\n",
              "      border-top-color: var(--fill-color);\n",
              "      border-right-color: var(--fill-color);\n",
              "    }\n",
              "    40% {\n",
              "      border-color: transparent;\n",
              "      border-right-color: var(--fill-color);\n",
              "      border-top-color: var(--fill-color);\n",
              "    }\n",
              "    60% {\n",
              "      border-color: transparent;\n",
              "      border-right-color: var(--fill-color);\n",
              "    }\n",
              "    80% {\n",
              "      border-color: transparent;\n",
              "      border-right-color: var(--fill-color);\n",
              "      border-bottom-color: var(--fill-color);\n",
              "    }\n",
              "    90% {\n",
              "      border-color: transparent;\n",
              "      border-bottom-color: var(--fill-color);\n",
              "    }\n",
              "  }\n",
              "</style>\n",
              "\n",
              "  <script>\n",
              "    async function quickchart(key) {\n",
              "      const quickchartButtonEl =\n",
              "        document.querySelector('#' + key + ' button');\n",
              "      quickchartButtonEl.disabled = true;  // To prevent multiple clicks.\n",
              "      quickchartButtonEl.classList.add('colab-df-spinner');\n",
              "      try {\n",
              "        const charts = await google.colab.kernel.invokeFunction(\n",
              "            'suggestCharts', [key], {});\n",
              "      } catch (error) {\n",
              "        console.error('Error during call to suggestCharts:', error);\n",
              "      }\n",
              "      quickchartButtonEl.classList.remove('colab-df-spinner');\n",
              "      quickchartButtonEl.classList.add('colab-df-quickchart-complete');\n",
              "    }\n",
              "    (() => {\n",
              "      let quickchartButtonEl =\n",
              "        document.querySelector('#df-9ef9ab43-3c31-4d11-9c69-40f699ec3825 button');\n",
              "      quickchartButtonEl.style.display =\n",
              "        google.colab.kernel.accessAllowed ? 'block' : 'none';\n",
              "    })();\n",
              "  </script>\n",
              "</div>\n",
              "    </div>\n",
              "  </div>\n"
            ],
            "text/plain": [
              "         survived      pclass         age       sibsp       parch        fare\n",
              "count  891.000000  891.000000  714.000000  891.000000  891.000000  891.000000\n",
              "mean     0.383838    2.308642   29.699118    0.523008    0.381594   32.204208\n",
              "std      0.486592    0.836071   14.526497    1.102743    0.806057   49.693429\n",
              "min      0.000000    1.000000    0.420000    0.000000    0.000000    0.000000\n",
              "25%      0.000000    2.000000   20.125000    0.000000    0.000000    7.910400\n",
              "50%      0.000000    3.000000   28.000000    0.000000    0.000000   14.454200\n",
              "75%      1.000000    3.000000   38.000000    1.000000    0.000000   31.000000\n",
              "max      1.000000    3.000000   80.000000    8.000000    6.000000  512.329200"
            ]
          },
          "execution_count": 38,
          "metadata": {},
          "output_type": "execute_result"
        }
      ],
      "source": [
        "df.describe()"
      ]
    },
    {
      "cell_type": "code",
      "execution_count": null,
      "metadata": {
        "colab": {
          "base_uri": "https://localhost:8080/"
        },
        "id": "IPpB0GK9NY53",
        "outputId": "fda2c19b-13c6-449a-846a-5f236ee9774d"
      },
      "outputs": [],
      "source": [
        "df['age'].mean()"
      ]
    },
    {
      "cell_type": "code",
      "execution_count": null,
      "metadata": {
        "colab": {
          "base_uri": "https://localhost:8080/"
        },
        "id": "ZWcX88UKNZTY",
        "outputId": "193af0fe-79e4-48c2-ab69-b6d0e3671e3d"
      },
      "outputs": [],
      "source": [
        "df['age'].max()"
      ]
    },
    {
      "cell_type": "code",
      "execution_count": null,
      "metadata": {
        "colab": {
          "base_uri": "https://localhost:8080/"
        },
        "id": "ioRHeZHoNeoj",
        "outputId": "756bc1d6-1ce6-4c21-d2db-642d87bd5a1d"
      },
      "outputs": [],
      "source": [
        "df['age'].std()"
      ]
    },
    {
      "cell_type": "markdown",
      "metadata": {
        "id": "hX-xJmm-RxB4"
      },
      "source": [
        "- .shape() function provides us with the number of rows and columns a data frame has"
      ]
    },
    {
      "cell_type": "code",
      "execution_count": null,
      "metadata": {
        "colab": {
          "base_uri": "https://localhost:8080/"
        },
        "id": "iwfuP_6TNhcx",
        "outputId": "7852bacb-1641-4fdb-d927-3d4b8ac12550"
      },
      "outputs": [],
      "source": [
        "df.shape[0]"
      ]
    },
    {
      "cell_type": "code",
      "execution_count": null,
      "metadata": {
        "colab": {
          "base_uri": "https://localhost:8080/"
        },
        "id": "D5E3kiDmNisl",
        "outputId": "6e94fb82-44df-4f4d-920b-1982f42a7c6e"
      },
      "outputs": [],
      "source": [
        "df.shape[1]"
      ]
    },
    {
      "cell_type": "markdown",
      "metadata": {
        "id": "sRWxSa3LNkOy"
      },
      "source": [
        "* pandas data types\n",
        "\n",
        " - **object** - used for strings, or if the column contains a mix of data types\n",
        " - **int64** - used for integers ('64' relates to memory usage)\n",
        " - **float64** - used for floats, or where the column has both integers and NaN values\n",
        " - **datetime64** / **timedelta** - time-based values\n",
        " - **bool** - booleans, i.e. True or False\n",
        "\n",
        "* pandas missing values\n",
        " - **NaN** is used to indicate missing values in most instances, and is supported by the `float` datatype\n",
        " - **NaT** is used to indicate missing values where a `datetime` object may have been expected"
      ]
    },
    {
      "cell_type": "markdown",
      "metadata": {
        "id": "l8ngZ8nbNn55"
      },
      "source": [
        "* Retrieving specific data from a DataFrame is known as **indexing** in pandas, and can be done using:\n",
        "  - **position**: zero-based integers for row  and column location\n",
        "  - **labels**: row labels (numeric by default) and column names"
      ]
    },
    {
      "cell_type": "markdown",
      "metadata": {
        "id": "VJLfJ9eTNr_J"
      },
      "source": [
        "\n",
        "* Use `.iloc[]` for position-based indexing, the syntax is `[rows,columns]`, where `rows` and `columns` can be **either single values or ranges**"
      ]
    },
    {
      "cell_type": "code",
      "execution_count": null,
      "metadata": {
        "colab": {
          "base_uri": "https://localhost:8080/",
          "height": 112
        },
        "id": "sgZ5lqoTNndT",
        "outputId": "eb05b5a3-881d-4802-f3b0-0529615f8c95"
      },
      "outputs": [],
      "source": [
        "df.iloc[0:2, 0:4]"
      ]
    },
    {
      "cell_type": "code",
      "execution_count": null,
      "metadata": {
        "colab": {
          "base_uri": "https://localhost:8080/",
          "height": 112
        },
        "id": "k-KY6wS9Nwq3",
        "outputId": "374d76a4-3d4e-47b3-d0d8-bba8cfd9b424"
      },
      "outputs": [],
      "source": [
        "df.iloc[0:2]"
      ]
    },
    {
      "cell_type": "markdown",
      "metadata": {
        "id": "qQNVtdh5N0gn"
      },
      "source": [
        "* Use `.loc[]` for label-based indexing, in this instance we could have used `.iloc` instead of `.loc`, because the position-based and label-based row indexes are equivalent. **Label-based indexing** (`.loc`) is **more robust** for looking up data, in that changes to the order or presence of rows or columns will not result in the wrong data being returned"
      ]
    },
    {
      "cell_type": "code",
      "execution_count": null,
      "metadata": {
        "colab": {
          "base_uri": "https://localhost:8080/",
          "height": 175
        },
        "id": "rYuMzlIxN1Uq",
        "outputId": "1720be64-f17e-4bc4-9e3a-fb84646fc638"
      },
      "outputs": [],
      "source": [
        "df.loc[0:3, ['age', 'sex']]"
      ]
    },
    {
      "cell_type": "code",
      "execution_count": null,
      "metadata": {
        "colab": {
          "base_uri": "https://localhost:8080/"
        },
        "id": "erzbR9YtN1t0",
        "outputId": "fccc9e6f-1517-4dd0-c187-390052a6fa21"
      },
      "outputs": [],
      "source": [
        "df.loc[:, 'age'].head()"
      ]
    },
    {
      "cell_type": "markdown",
      "metadata": {
        "id": "kYfLmJZYN6QW"
      },
      "source": [
        "- We can combine pandas data frames with additional libraries for example for data visualizations such as seaborn and matplotlib. this helps us to have a visual represetnation of data that is great for Exploratory Data Analysis."
      ]
    },
    {
      "cell_type": "code",
      "execution_count": 48,
      "metadata": {
        "id": "GYnJIntKN9nD"
      },
      "outputs": [],
      "source": [
        "import matplotlib.pyplot as plt\n",
        "import seaborn as sns"
      ]
    },
    {
      "cell_type": "code",
      "execution_count": null,
      "metadata": {
        "colab": {
          "base_uri": "https://localhost:8080/"
        },
        "id": "5dp34e1dOAD9",
        "outputId": "36a3322a-fcaa-40a7-9950-579ef2f9b094"
      },
      "outputs": [],
      "source": [
        "df['sex'].value_counts()"
      ]
    },
    {
      "cell_type": "code",
      "execution_count": null,
      "metadata": {
        "colab": {
          "base_uri": "https://localhost:8080/",
          "height": 524
        },
        "id": "kXH-RITMOBm2",
        "outputId": "9761c187-ab40-46c2-b5aa-f2835d84d675"
      },
      "outputs": [],
      "source": [
        "sns.catplot(x='sex', data=df, kind='count')"
      ]
    },
    {
      "cell_type": "markdown",
      "metadata": {
        "id": "q5_kLp5qODps"
      },
      "source": [
        "- Count frequencies in one column grouped by another column, e.g. passanger class and passanger sex."
      ]
    },
    {
      "cell_type": "code",
      "execution_count": null,
      "metadata": {
        "colab": {
          "base_uri": "https://localhost:8080/"
        },
        "id": "SyPPWgJROGKI",
        "outputId": "258c9406-dd50-4318-b81f-0eaf7bc1da4f"
      },
      "outputs": [],
      "source": [
        "df.groupby(['pclass','sex']).size()"
      ]
    },
    {
      "cell_type": "code",
      "execution_count": null,
      "metadata": {
        "colab": {
          "base_uri": "https://localhost:8080/",
          "height": 523
        },
        "id": "UDBBN28YOHr4",
        "outputId": "c9eb7eb0-e7f6-4f29-e09e-31f0415ed640"
      },
      "outputs": [],
      "source": [
        "sns.catplot(x='pclass', data=df, hue='sex', kind='count')"
      ]
    },
    {
      "cell_type": "markdown",
      "metadata": {
        "id": "U1i2SEeHOKph"
      },
      "source": [
        "- Create new variables (columns) in the data frame from other variables (columns). We can use these newly created variables to get new insights about our data."
      ]
    },
    {
      "cell_type": "code",
      "execution_count": 61,
      "metadata": {
        "id": "VTKm49YIOKUy"
      },
      "outputs": [],
      "source": [
        "# we create a new column named 'person' and set its value to be identical to sex\n",
        "df['person'] = df['sex']\n",
        "\n",
        "# we change the value of person column based on an implicit, if-then statement. If age is less than 16 we change the value of 'person' to 'child'\n",
        "df.loc[df['age'] < 16, 'person'] = 'child'"
      ]
    },
    {
      "cell_type": "code",
      "execution_count": null,
      "metadata": {
        "colab": {
          "base_uri": "https://localhost:8080/"
        },
        "id": "H-KsiWq_OM0B",
        "outputId": "91002645-d32d-467c-c75b-b3416f3a240d"
      },
      "outputs": [],
      "source": [
        "df.groupby(['pclass','person']).size()"
      ]
    },
    {
      "cell_type": "code",
      "execution_count": null,
      "metadata": {
        "colab": {
          "base_uri": "https://localhost:8080/",
          "height": 524
        },
        "id": "uhVLm0g7OOMP",
        "outputId": "db61118d-a6e1-4b08-adbe-35e7c250fb2c"
      },
      "outputs": [],
      "source": [
        "sns.catplot(x='pclass', data=df, hue='person', kind='count')"
      ]
    },
    {
      "cell_type": "markdown",
      "metadata": {
        "id": "6et367aiOQFL"
      },
      "source": [
        "- Histogram plots are a great way to gauge the distribution of nummerical variables."
      ]
    },
    {
      "cell_type": "code",
      "execution_count": null,
      "metadata": {
        "colab": {
          "base_uri": "https://localhost:8080/",
          "height": 447
        },
        "id": "q1tKfMCEOPfk",
        "outputId": "b8deca05-9329-4ffe-b131-33e7e8097df5"
      },
      "outputs": [],
      "source": [
        "df.age.hist(bins=80)"
      ]
    },
    {
      "cell_type": "markdown",
      "metadata": {
        "id": "NnlyVlyQOcpb"
      },
      "source": [
        "- To improve readability we can set custom order for variables in our plots"
      ]
    },
    {
      "cell_type": "code",
      "execution_count": null,
      "metadata": {
        "colab": {
          "base_uri": "https://localhost:8080/"
        },
        "id": "z31sxVU_Oe86",
        "outputId": "442ef3bc-4dcd-489c-913c-1884189b3d19"
      },
      "outputs": [],
      "source": [
        "df.groupby(['pclass','embark_town']).size()"
      ]
    },
    {
      "cell_type": "code",
      "execution_count": null,
      "metadata": {
        "colab": {
          "base_uri": "https://localhost:8080/",
          "height": 523
        },
        "id": "4XI1cNQuOfQL",
        "outputId": "10f6c262-e578-48d5-d945-cc2ba7c133e7"
      },
      "outputs": [],
      "source": [
        "sns.catplot(x='embark_town', data=df, hue='pclass', kind='count')"
      ]
    },
    {
      "cell_type": "code",
      "execution_count": null,
      "metadata": {
        "colab": {
          "base_uri": "https://localhost:8080/",
          "height": 523
        },
        "id": "X-qhu_TgOflS",
        "outputId": "54ee6714-ddb0-4c79-9464-bbf6593dffd0"
      },
      "outputs": [],
      "source": [
        "sns.catplot(x='embark_town', data=df, hue='pclass', kind='count', order=['Cherbourg', 'Queenstown', 'Southampton'])"
      ]
    },
    {
      "cell_type": "markdown",
      "metadata": {
        "id": "56N1WaFHOkbI"
      },
      "source": [
        "- Another way to create custom variables from other variables in our data frame is to take advantage of the numerical data type to create a categorical variable for whether a person was traveling with family or by herself."
      ]
    },
    {
      "cell_type": "code",
      "execution_count": null,
      "metadata": {
        "colab": {
          "base_uri": "https://localhost:8080/"
        },
        "id": "FbSYsG_TOnVD",
        "outputId": "6d912ec1-b1c3-4c69-d979-cbfeae5cbca4"
      },
      "outputs": [],
      "source": [
        "df['alone'] = df['sibsp'] + df['parch']\n",
        "df['alone']"
      ]
    },
    {
      "cell_type": "code",
      "execution_count": 68,
      "metadata": {
        "id": "dEWGOvBiOoBd"
      },
      "outputs": [],
      "source": [
        "df.loc[df['alone'] > 0, 'alone'] = 'with family'\n",
        "df.loc[df['alone'] == 0, 'alone'] = 'alone'"
      ]
    },
    {
      "cell_type": "code",
      "execution_count": null,
      "metadata": {
        "colab": {
          "base_uri": "https://localhost:8080/"
        },
        "id": "vW3PnotIOoU0",
        "outputId": "004bb432-fccb-4dea-d96c-8dea4ded5059"
      },
      "outputs": [],
      "source": [
        "df.groupby(['pclass','alone']).size()"
      ]
    },
    {
      "cell_type": "code",
      "execution_count": null,
      "metadata": {
        "colab": {
          "base_uri": "https://localhost:8080/",
          "height": 523
        },
        "id": "pBwODq5qOopd",
        "outputId": "fdbb6699-9dbb-41a7-96d5-0941231e2431"
      },
      "outputs": [],
      "source": [
        "# Now let's get a simple visualization!\n",
        "sns.catplot(x='pclass', data=df, hue = 'alone', kind='count')"
      ]
    },
    {
      "cell_type": "markdown",
      "metadata": {
        "id": "M4PON9LOOvMS"
      },
      "source": [
        "* We can use .map() function to create a new variable by changing data types in this case from numerical to categorical and providing our own mapping."
      ]
    },
    {
      "cell_type": "code",
      "execution_count": 71,
      "metadata": {
        "id": "Z9KFxM5QOw5A"
      },
      "outputs": [],
      "source": [
        "df['survivor'] = df.survived.map({0:'No', 1:'Yes'})"
      ]
    },
    {
      "cell_type": "code",
      "execution_count": null,
      "metadata": {
        "colab": {
          "base_uri": "https://localhost:8080/"
        },
        "id": "aFdOeKZAOzZz",
        "outputId": "aec22c57-480d-41e7-fa53-2bd05222d934"
      },
      "outputs": [],
      "source": [
        "df['survivor'].value_counts()"
      ]
    },
    {
      "cell_type": "code",
      "execution_count": 73,
      "metadata": {
        "colab": {
          "base_uri": "https://localhost:8080/",
          "height": 523
        },
        "id": "_GPdQN76Ozx0",
        "outputId": "a6cbfff6-cdf9-45c3-b542-d89e8622f850"
      },
      "outputs": [
        {
          "data": {
            "text/plain": [
              "<seaborn.axisgrid.FacetGrid at 0x7a0908fc7670>"
            ]
          },
          "execution_count": 73,
          "metadata": {},
          "output_type": "execute_result"
        },
        {
          "data": {
            "image/png": "[encoded data removed]",
            "text/plain": [
              "<Figure size 500x500 with 1 Axes>"
            ]
          },
          "metadata": {},
          "output_type": "display_data"
        }
      ],
      "source": [
        "sns.catplot(x='survivor', data=df, kind='count')"
      ]
    },
    {
      "cell_type": "markdown",
      "metadata": {
        "id": "mDwAEnl2O2nH"
      },
      "source": [
        "## Optional Exercise\n",
        "\n",
        "Exercise, using the titanic data set together with pandas, seaborn and matplotlib try to answer the following question:\n",
        "\n",
        "* What were the main factors that helped people survive the Titanic disaster?"
      ]
    },
    {
      "cell_type": "code",
      "execution_count": null,
      "metadata": {
        "id": "6ywpiismO3NT"
      },
      "outputs": [],
      "source": [
        "# comments\n",
        "# your code here"
      ]
    },
    {
      "cell_type": "markdown",
      "metadata": {
        "id": "mLjSHTy44rWg"
      },
      "source": [
        "# Introduction to Python data science workflow"
      ]
    },
    {
      "cell_type": "markdown",
      "metadata": {
        "id": "3rdTr8AE4rWi"
      },
      "source": [
        "## Machine learning at a glance"
      ]
    },
    {
      "cell_type": "markdown",
      "metadata": {
        "id": "lkzvcV1l4rWj"
      },
      "source": [
        "### What is Machine Learning?\n",
        "\n",
        "**Machine learning** is at the intersection of **computer science** and **statistics**. Goal is to build programs, as in computer science, using data, as in statistics.\n",
        "\n",
        "- There are various related fields/approaches when working with **data**. Example (dataset with house properties and prices):\n",
        "    - **Data science**: Create **database** and **dashboard** for house prices\n",
        "    - **Computer science**: Create **search engine** for cheap houses\n",
        "    - **Statistics**: **Test** impact of neighborhood on house price\n",
        "    - **Machine learning**: Train a model that **predicts** the price of a new house on the market\n",
        "\n",
        "The different fields have an overlap, but focus on different aspects:\n",
        "- **Data science** focuses on the pipeline of organizing data, dealing with large datasets on the cloud, visualizing relevant information.\n",
        "\n",
        "- **Statistics** focuses on specific, well defined properties of the data, like hypothesis tests. Model are usually less complex than in ML, with focus on interpretability\n",
        "\n",
        "- **Machine learning** mixes computer science, data science and statistics, creating complex programs based on data, with the common theme of predicting new values"
      ]
    },
    {
      "cell_type": "markdown",
      "metadata": {
        "id": "k8TW0wdi4rWj"
      },
      "source": [
        "### Machine learning tasks\n",
        "- Machine learning tasks have at its center predicting properties for novel data\n",
        "    - **Predicting** house prices\n",
        "    - **Classifying** document topics\n",
        "    - **Grouping** similar users in social networks\n",
        "    - **Detecting** credit fraud\n",
        "    - **Generating** novel music"
      ]
    },
    {
      "cell_type": "markdown",
      "metadata": {
        "id": "bDmKXmzU4rWj"
      },
      "source": [
        "### Machine Learning Pipeline\n",
        "<img src=\"data:image/png;base64,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\">"
      ]
    },
    {
      "cell_type": "markdown",
      "metadata": {
        "id": "wjilAMDG4rWp"
      },
      "source": [
        "### Two broad categories of learning\n",
        "#### Supervised Learning\n",
        "- Data contains **input** $X$ and **outcome** $Y$\n",
        "- Develop a model that maps inputs to outcomes, $Y = f(X)$\n",
        "- House data:\n",
        "    - number of rooms, postcode, m<sup class=\"footnote\">2</sup>  ⇨  house price\n",
        "- Diabetes:\n",
        "    - glucose concentration, blood pressure, age  ⇨  has diabetes\n",
        "\n",
        "#### Unsupervised Learning\n",
        "- Find structure in the **data** $X$\n",
        "- **Groups** similar data points (clustering)\n",
        "    - Grouping similar users in social networks\n",
        "- Learn to **generate** data, $P(X)$\n",
        "    - Generate novel text for a topic\n",
        "- Reduce number of **data** dimensions\n",
        "    - Find informative dimensions for 2D visualization\n",
        "\n",
        "![jupyter.png](https://miro.medium.com/v2/resize:fit:960/1*31iqrQyCqIuuGPLUK_BjMQ.png)\n",
        "\n",
        "![jupyter.png](https://www.researchgate.net/publication/351953193/figure/fig3/AS:11431281117150742@1675395484096/Supervised-and-unsupervised-machine-learning-a-Schematic-representation-of-an.png)"
      ]
    },
    {
      "cell_type": "markdown",
      "metadata": {
        "id": "EmeZ7rVN4rWs"
      },
      "source": [
        "### Complex models\n",
        "\n",
        "Modern machine learning, in particular **deep learning**, expanded modeling to a **very large** number of parameters, data dimensions, data samples\n",
        "\n",
        "An important difference between models is their complexity. traditional ML models are usually smaller, sometimes linear, with strong assumptions on the data, like gaussian clusters in unsupervised learning.\n",
        "\n",
        "![jupyter.png](https://www.mvtec.com/fileadmin/_processed_/f/8/csm_deep-learning-new-methods_dfa516d90f.png)\n",
        "\n",
        "Modern deep learning models have many parameters, are highly nonlinear and model high dimensional data, especially neural networks.\n",
        "\n",
        "Nevertheless, the essence of the tasks stays the same, e.g. prediction or clustering, but with the functions f(x) involved being arbitrarily complex, implemented by deep networks.\n",
        "\n",
        "![jupyter.png](https://miro.medium.com/v2/resize:fit:1400/1*x2_i4oKF-CmdLXCl-zQqEw.png)"
      ]
    },
    {
      "cell_type": "markdown",
      "metadata": {
        "id": "98_Zy93y4rWs"
      },
      "source": [
        "## Problem of the day - imbalanced data set for classification\n",
        "\n",
        "Imbalanced data refers to a situation, in machine learning classification problems, where one target class represents a much larger proportion of observations. Imbalanced datasets feature a heavy skew in the class distribution, such as 1:100, 1:1000 or 1:10000 examples in the minority class when compared to the majority class.\n",
        "\n",
        "There are a few main domains in which we can typically observe Class Imbalance:\n",
        "\n",
        "* **Fraud detection** (the vast majority of the transactions will be in the \"Not-Fraud” class)\n",
        "* **Disease screening** (the vast majority of test subjects will be healthy)\n",
        "* **Subscription churn** (the vast majority of customers stay with the service - the “No-Churn” class)"
      ]
    },
    {
      "cell_type": "markdown",
      "metadata": {
        "id": "JnlY241s4rWs"
      },
      "source": [
        "### Data Context\n",
        "\n",
        "It is important that credit card companies are able to recognize fraudulent credit card transactions so that customers are not charged for items that they did not purchase.\n",
        "\n",
        "### Data Content\n",
        "\n",
        "The data we are using today is a simulated credit card transaction dataset containing legitimate and fraud transactions from the duration 1st Jan 2019 - 31st Dec 2020. It covers credit cards of 1000 customers doing transactions with a pool of 800 merchants.\n",
        "\n",
        "- This was generated using Sparkov Data Generation | Github tool created by Brandon Harris. This simulation was run for the duration - 1 Jan 2019 to 31 Dec 2020. The files were combined and converted into a standard format.\n",
        "\n",
        "- Is_fraud is the response variable and it takes value 1 in case of fraud and 0 otherwise."
      ]
    },
    {
      "cell_type": "markdown",
      "metadata": {
        "id": "A3pXvTSC4rWs"
      },
      "source": [
        "### Practical example\n",
        "\n",
        "We begin with importing the necessary libraries from open source or python and enabling google drive"
      ]
    },
    {
      "cell_type": "code",
      "execution_count": 81,
      "metadata": {
        "id": "9COUkVu74rWt"
      },
      "outputs": [],
      "source": [
        "import pandas as pd\n",
        "import matplotlib.pyplot as plt\n",
        "import seaborn as sns\n",
        "import numpy as np\n",
        "import datetime"
      ]
    },
    {
      "cell_type": "code",
      "execution_count": null,
      "metadata": {
        "id": "JSEmWgCe44U8"
      },
      "outputs": [],
      "source": [
        "#from google.colab import drive\n",
        "#drive.mount('/content/gdrive')"
      ]
    },
    {
      "cell_type": "code",
      "execution_count": null,
      "metadata": {
        "id": "v2WAYar75FI9"
      },
      "outputs": [],
      "source": [
        "#%cd /content/gdrive/MyDrive/SSE/SSE-AI-For-Business-Intelligence"
      ]
    },
    {
      "cell_type": "markdown",
      "metadata": {
        "id": "jgnvzf7I4rWt"
      },
      "source": [
        "**Information about data**\n",
        "\n",
        "We always start the DS workflow by investigating the data, if possible visually (when data size is reasonable) if not descriptivly (when working with big data)"
      ]
    },
    {
      "cell_type": "code",
      "execution_count": 74,
      "metadata": {
        "id": "AUx8UUqw4rWt"
      },
      "outputs": [],
      "source": [
        "raw_df = pd.read_csv('./data/fraudData.csv')"
      ]
    },
    {
      "cell_type": "code",
      "execution_count": null,
      "metadata": {
        "colab": {
          "base_uri": "https://localhost:8080/"
        },
        "id": "IHUZ6nqZ4rWu",
        "outputId": "212695d9-51fb-47db-d298-a826744d7d4b"
      },
      "outputs": [],
      "source": [
        "raw_df.shape"
      ]
    },
    {
      "cell_type": "code",
      "execution_count": null,
      "metadata": {
        "colab": {
          "base_uri": "https://localhost:8080/",
          "height": 481
        },
        "id": "ZAUBXCHq4rWu",
        "outputId": "71853188-4bf0-42a3-ed4d-49e88183b57f"
      },
      "outputs": [],
      "source": [
        "raw_df.head()"
      ]
    },
    {
      "cell_type": "markdown",
      "metadata": {
        "id": "6AeoDvCW4rWv"
      },
      "source": [
        "Currently we have 23 columns in our data, however, the basic pandas library settings will not allow us to investigate them all. To change this behavior we use .set_option() function which allows us to set the 'display.max_columns' variable.\n",
        "\n",
        "By selecting this variable as 'None' we remove all the limits. The .set_option() function works with **key-value** pairs data type we looked at before"
      ]
    },
    {
      "cell_type": "code",
      "execution_count": null,
      "metadata": {
        "colab": {
          "base_uri": "https://localhost:8080/",
          "height": 452
        },
        "id": "eFYQVe4i4rWw",
        "outputId": "088a6a90-70cb-4e42-8c4b-85c65e585e96"
      },
      "outputs": [],
      "source": [
        "pd.set_option('display.max_columns', None)\n",
        "raw_df.head()"
      ]
    },
    {
      "cell_type": "markdown",
      "metadata": {
        "id": "LMO9n6hO4rWw"
      },
      "source": [
        "For a more descriptive view we can use the .info() function that highlights the data type for each column and shows if we have any null (empty) values."
      ]
    },
    {
      "cell_type": "code",
      "execution_count": null,
      "metadata": {
        "colab": {
          "base_uri": "https://localhost:8080/"
        },
        "id": "HNs_9hY_4rWw",
        "outputId": "07552471-0bc7-488f-cb56-0249448f7c00"
      },
      "outputs": [],
      "source": [
        "raw_df.info()"
      ]
    },
    {
      "cell_type": "markdown",
      "metadata": {
        "id": "0_gINJ5F4rWw"
      },
      "source": [
        "### Minimal Feature engineering\n",
        "\n",
        "Feature engineering can be simply defined as the preprocessing steps that transform raw data into features that can be used in machine learning algorithms. This can be done in a manual or automated way, in case of automation, specific software packages can be used to automatically generate features from input data. The main goal of feature engineering is to increase ML model accuracy - with better data quality comes better predictive results.\n",
        "\n",
        "We can broadly define 4 types of feature engineering:\n",
        "* **Feature Creation** - we create new variables by combining variables found in the input data, for example averaging transaction amount accross various credit card purchases;\n",
        "* **Transformations** - we transform variables in input data by, for example, scaling (having all variables on the same scale) or encoding (transforming categorical values to numeric);\n",
        "* **Feature Extraction** - we create new variables by manipulating the exsisting variable, for example, creating day of week variable from dates;\n",
        "* **Feature Selection** - using statistical algorigthms we select only those features that contribute to the predictive power of the model, in this way reducing complexity.\n",
        "\n",
        "![jupyter.png](https://www.tecton.ai/wp-content/uploads/2022/07/data-to-feature.png)"
      ]
    },
    {
      "cell_type": "code",
      "execution_count": null,
      "metadata": {
        "colab": {
          "base_uri": "https://localhost:8080/",
          "height": 452
        },
        "id": "a-vvb4R4VlgB",
        "outputId": "fb5c6858-a88d-4e5e-b61f-f24fc47cf73a"
      },
      "outputs": [],
      "source": [
        "raw_df.head()"
      ]
    },
    {
      "cell_type": "code",
      "execution_count": 82,
      "metadata": {
        "id": "JqoJlMrd4rWw"
      },
      "outputs": [],
      "source": [
        "df = raw_df.copy()\n",
        "\n",
        "# remove duplicates\n",
        "df.drop_duplicates(inplace=True)\n",
        "\n",
        "# Convert date values to their corresponding data types and create the age variable\n",
        "df[\"trans_date_trans_time\"] = pd.to_datetime(df[\"trans_date_trans_time\"], infer_datetime_format=True)\n",
        "df['age'] = datetime.date.today().year - pd.to_datetime(df['dob']).dt.year\n",
        "\n",
        "# Convert credit card numbers to a category value, they are identifiers which we do not want to have in our models\n",
        "df.cc_num = df.cc_num.astype('category')\n",
        "\n",
        "# Apply function utcfromtimestamp and drop column unix_time\n",
        "df['time'] = df['unix_time'].apply(datetime.datetime.utcfromtimestamp)\n",
        "df.drop('unix_time', axis=1)\n",
        "\n",
        "# Add cloumns hour of day, day of week and month\n",
        "df['hour_of_day'] = df.time.dt.hour\n",
        "df['day_of_week'] = df.time.dt.dayofweek\n",
        "df['month'] = df.time.dt.month"
      ]
    },
    {
      "cell_type": "code",
      "execution_count": null,
      "metadata": {
        "colab": {
          "base_uri": "https://localhost:8080/",
          "height": 452
        },
        "id": "lipnFujYVsWb",
        "outputId": "83e90749-d948-40c8-88bc-d78ab869545c"
      },
      "outputs": [],
      "source": [
        "df.head()"
      ]
    },
    {
      "cell_type": "markdown",
      "metadata": {
        "id": "BcxJEoEW4rWx"
      },
      "source": [
        "Example of **hour_of_day** and **day_of_week** variables that we created:"
      ]
    },
    {
      "cell_type": "code",
      "execution_count": null,
      "metadata": {
        "colab": {
          "base_uri": "https://localhost:8080/",
          "height": 424
        },
        "id": "YAXL6xmW4rWx",
        "outputId": "33fb7baf-7a38-4161-d319-d765b97b41fe"
      },
      "outputs": [],
      "source": [
        "df[['time','hour_of_day']]"
      ]
    },
    {
      "cell_type": "code",
      "execution_count": null,
      "metadata": {
        "colab": {
          "base_uri": "https://localhost:8080/",
          "height": 424
        },
        "id": "xfXtMemw4rWx",
        "outputId": "6e5b68ef-c293-45ff-8b3d-7571bbdaeacf"
      },
      "outputs": [],
      "source": [
        "df[['time','day_of_week']]"
      ]
    },
    {
      "cell_type": "markdown",
      "metadata": {
        "id": "nzNe-z4G4rWx"
      },
      "source": [
        "### Exploratory data analysis example\n",
        "\n",
        "In order to better understand the relationship between our target variable Y and its predictor variables X we use Exploratory Data Analysis (EDA). It is a good way to look for the impact our variables have on the Fraud distribution:\n",
        "* Is fraud more common with larger transactions?\n",
        "* Is there a gender pattern in fraud?\n",
        "* Are there cyclical trends in fraud?\n",
        "* Are there specific product groups that are more likely to be targeted by fraudsters?\n",
        "\n",
        "Before applying any modeling techniques (if possible) it is good to have a look at EDA to estimate the potential importance of various features we have created."
      ]
    },
    {
      "cell_type": "markdown",
      "metadata": {
        "id": "5ztawgW34rWx"
      },
      "source": [
        "**amount vs fraud**"
      ]
    },
    {
      "cell_type": "code",
      "execution_count": null,
      "metadata": {
        "colab": {
          "base_uri": "https://localhost:8080/",
          "height": 567
        },
        "id": "X857652g4rWx",
        "outputId": "09191380-199e-4e5e-e5ea-c34c3b83bead"
      },
      "outputs": [],
      "source": [
        "#We set the figure size for easier readability\n",
        "sns.set(rc = {'figure.figsize':(12,6)})\n",
        "\n",
        "# We define a histogram for our data with the total amount less or equal to 2000, to remove the outlier features from EDA\n",
        "ax = sns.histplot(x = 'amt', data = df[df.amt <= 2000], hue = 'is_fraud',\n",
        "                  stat = 'percent', multiple = 'dodge', common_norm = False,\n",
        "                  bins = 25)\n",
        "\n",
        "# We provide each axis (y and x) with a lable and the final plot with title\n",
        "ax.set_ylabel('Percentage in Each Type')\n",
        "ax.set_xlabel('Transaction Amount in USD')\n",
        "plt.legend(title='Type', labels=['Fraud', 'Not Fraud'])"
      ]
    },
    {
      "cell_type": "markdown",
      "metadata": {
        "id": "HIFtEkid4rWy"
      },
      "source": [
        "**gender vs fraud**"
      ]
    },
    {
      "cell_type": "code",
      "execution_count": null,
      "metadata": {
        "colab": {
          "base_uri": "https://localhost:8080/",
          "height": 567
        },
        "id": "lCwRGj2-4rWy",
        "outputId": "f3aa4813-7aa8-4f73-bed0-0e87d0727807"
      },
      "outputs": [],
      "source": [
        "# We do not need to set the figure size since this is kept for the duration of the notebook session\n",
        "\n",
        "# We again define a histogram for our data this time we are looking at gender as our variable\n",
        "ax = sns.histplot(x = 'gender', data = df, hue = 'is_fraud',\n",
        "                  stat = 'percent', multiple = 'dodge',\n",
        "                  common_norm = False)\n",
        "\n",
        "# We provide each axis (y and x) with a lable and the final plot with title\n",
        "ax.set_ylabel('Percentage')\n",
        "ax.set_xlabel('Credit Card Holder Gender')\n",
        "plt.legend(title = 'Type', labels = ['Fraud', 'Not Fraud'])"
      ]
    },
    {
      "cell_type": "markdown",
      "metadata": {
        "id": "E5HnT6-Y4rWz"
      },
      "source": [
        "**transaction category vs fraud**\n",
        "\n",
        "To calculate this variable we need to first create a percentage value for each of our target variable classes (fraud = 1 and non_fraud = 0). We do this by creating a temporary data frames (a and b) for each class."
      ]
    },
    {
      "cell_type": "code",
      "execution_count": null,
      "metadata": {
        "colab": {
          "base_uri": "https://localhost:8080/",
          "height": 590
        },
        "id": "ryNjgsCO4rWz",
        "outputId": "0f147c71-925d-42aa-cdfa-d7ec8dd3ed9f"
      },
      "outputs": [],
      "source": [
        "# We create a dataframe with only non_fraud cases and calculate what percwentage of transactions are in each transaction category;\n",
        "# In the end we keep only two values category and fraud percentage\n",
        "a = df[df['is_fraud'] == 0]['category'].value_counts(normalize=True).to_frame().reset_index()\n",
        "a.columns = ['category','not fraud percentage']\n",
        "\n",
        "# We create a dataframe with only fraud cases and calculate what percwentage of rransactions are in each transaction category;\n",
        "# In the end we keep only two values category and fraud percentage\n",
        "b = df[df['is_fraud'] == 1]['category'].value_counts(normalize=True).to_frame().reset_index()\n",
        "b.columns = ['category','fraud percentage']\n",
        "\n",
        "# We combine the two dataframes into one and calculate the difference between both percentages\n",
        "ab = a.merge(b, on = 'category')\n",
        "ab['diff'] = ab['fraud percentage'] - ab['not fraud percentage']\n",
        "\n",
        "# We create our plot from the newly created data frame by using barplot function\n",
        "ax = sns.barplot(y = 'category', x = 'diff', data = ab.sort_values('diff', ascending = False))\n",
        "\n",
        "# We provide each axis (y and x) with a lable and the final plot with title\n",
        "ax.set_xlabel('Percentage Difference')\n",
        "ax.set_ylabel('Transaction Category')\n",
        "plt.title('The Percentage Difference of Fraudulent over Non-Fraudulent Transations in Each Spending Category ')"
      ]
    },
    {
      "cell_type": "markdown",
      "metadata": {
        "id": "ZN7VubPz4rWz"
      },
      "source": [
        "**hour of day vs fraud**"
      ]
    },
    {
      "cell_type": "code",
      "execution_count": null,
      "metadata": {
        "colab": {
          "base_uri": "https://localhost:8080/",
          "height": 567
        },
        "id": "l1PcQ3it4rWz",
        "outputId": "1fecdb7a-96da-4907-e4e0-5288a8733c65"
      },
      "outputs": [],
      "source": [
        "# Histogram for hour of day variable\n",
        "ax = sns.histplot(data = df, x = \"hour_of_day\", hue = \"is_fraud\",\n",
        "                  common_norm = False, stat = 'percent',\n",
        "                  multiple = 'dodge')\n",
        "\n",
        "\n",
        "ax.set_ylabel('Percentage')\n",
        "ax.set_xlabel('Time (Hour) in a Day')\n",
        "\n",
        "# We provide the order for our hour variable from 0 to 24\n",
        "plt.xticks(np.arange(0,24,1))\n",
        "\n",
        "# plot tilte\n",
        "plt.legend(title='Type', labels=['Fraud', 'Not Fraud'])"
      ]
    },
    {
      "cell_type": "markdown",
      "metadata": {
        "id": "6vmHMJU_4rWz"
      },
      "source": [
        "**day of week vs fraud**"
      ]
    },
    {
      "cell_type": "code",
      "execution_count": null,
      "metadata": {
        "colab": {
          "base_uri": "https://localhost:8080/",
          "height": 567
        },
        "id": "WUQbP8AH4rW0",
        "outputId": "e8da6d5a-f23a-4a89-a54f-39096c7381ad"
      },
      "outputs": [],
      "source": [
        "# Histogram for day of the week variable\n",
        "ax = sns.histplot(data = df, x = \"day_of_week\", hue = \"is_fraud\",\n",
        "                  common_norm = False, stat = 'percent',\n",
        "                  multiple = 'dodge')\n",
        "\n",
        "\n",
        "\n",
        "# We set our x axis lables to correspond to the day of the week\n",
        "plt.xticks(np.arange(0, 7, 1))\n",
        "ax.set_xticklabels([\"Mon\", \"Tue\", \"Wed\", \"Thu\", \"Fri\", \"Sat\", \"Sun\"])\n",
        "\n",
        "# Plot lables\n",
        "ax.set_ylabel('Percentage')\n",
        "ax.set_xlabel('Day of Week')\n",
        "plt.legend(title='Type', labels=['Fraud', 'Not Fraud'])"
      ]
    },
    {
      "cell_type": "markdown",
      "metadata": {
        "id": "Jgc8ktJj4rW0"
      },
      "source": [
        "### Encoding for categoric variables\n",
        "\n",
        "One of the main feature transformations that we need to do is encoding our categorical variables in a way that ML models can understand them. Most (not all) ML models are not capable of understanding categorical values such as transaction categories that we have in our data set. In odred to be able to use these variables in our model we need to transform them to a boolean representation (1 or 0)."
      ]
    },
    {
      "cell_type": "code",
      "execution_count": null,
      "metadata": {
        "colab": {
          "base_uri": "https://localhost:8080/",
          "height": 226
        },
        "id": "NO33PJxl4rW0",
        "outputId": "d6cf2957-b8ca-4012-cff5-8455e6c14152"
      },
      "outputs": [],
      "source": [
        "# First we subset the training data to include only the variables that we need\n",
        "df_fin = df[['is_fraud', 'category','amt','zip','lat','long','city_pop','merch_lat','merch_long','age','hour_of_day','day_of_week','month']]\n",
        "\n",
        "#We then use the pandas inbuilt function .get_dummies() to convert category variables to dummy variables (encoded as true or false)\n",
        "df_fin = pd.get_dummies(df_fin)\n",
        "\n",
        "df_fin.head()"
      ]
    },
    {
      "cell_type": "markdown",
      "metadata": {
        "id": "tEtzmZ584rW0"
      },
      "source": [
        "### Class imbalance in target variable\n"
      ]
    },
    {
      "cell_type": "code",
      "execution_count": null,
      "metadata": {
        "colab": {
          "base_uri": "https://localhost:8080/",
          "height": 603
        },
        "id": "i9DifwfH4rW0",
        "outputId": "641f8441-0ba7-4971-99fb-4b259f6c5e34"
      },
      "outputs": [],
      "source": [
        "labels=[\"Not-Fraud\",\"Fraud\"]\n",
        "fraud_or_not = df_fin[\"is_fraud\"].value_counts().tolist()\n",
        "\n",
        "plt.pie(fraud_or_not, labels = labels, autopct = '%.1f%%')"
      ]
    },
    {
      "cell_type": "markdown",
      "metadata": {
        "id": "HAyIsrVEnHcy"
      },
      "source": [
        "There are several approaches to solving class imbalance problem before starting classification, such as:\n",
        "\n",
        "* If possible, more samples from the minority class should be acquired from the knowledge domain (gathering more data).\n",
        "\n",
        "* Changing the loss function to give the failing minority class a higher cost (statistical technique).\n",
        "\n",
        "* Oversampling the minority class.\n",
        "\n",
        "* Undersampling the majority class.\n",
        "\n",
        "* Looking at synthethic sampling techniques (SMOTE)\n",
        "\n",
        "* Any combination of previous approaches.\n",
        "\n",
        "**Oversampling** methods duplicate or create new synthetic examples in the minority class, whereas **undersampling** methods delete or merge examples in the majority class. Oversampling is the most often used approach (but not necessarily the best)."
      ]
    },
    {
      "cell_type": "code",
      "execution_count": null,
      "metadata": {
        "colab": {
          "base_uri": "https://localhost:8080/",
          "height": 551
        },
        "id": "rIemNAvj4rW6",
        "outputId": "541b483b-3c3e-4f97-8c2a-3f1029e200fc"
      },
      "outputs": [],
      "source": [
        "ax = sns.countplot(x='is_fraud',data=df_fin,palette=\"pastel\")\n",
        "for i in ax.containers:\n",
        "    ax.bar_label(i,)"
      ]
    },
    {
      "cell_type": "code",
      "execution_count": null,
      "metadata": {
        "colab": {
          "base_uri": "https://localhost:8080/"
        },
        "id": "670MImw-4rW7",
        "outputId": "99d5a664-7a3b-4416-aee9-05227d6bc789"
      },
      "outputs": [],
      "source": [
        "print('Not_fraud:', round(raw_df['is_fraud'].value_counts()[0]/len(raw_df) * 100,2), '% of the dataset')\n",
        "print('Fraud:', round(raw_df['is_fraud'].value_counts()[1]/len(raw_df) * 100,2), '% of the dataset')"
      ]
    },
    {
      "cell_type": "markdown",
      "metadata": {
        "id": "uHfpH9Ki4rW7"
      },
      "source": [
        "**Classification accuracy** is a metric that summarizes the performance of a classification model as the number of correct predictions divided by the total number of predictions.\n",
        "\n",
        "* Accuracy = Correct Predictions / Total Predictions\n",
        "\n",
        "<br>\n",
        "\n",
        "Achieving 90 percent classification accuracy, or even 99 percent classification accuracy, may be trivial on an imbalanced classification problem. The rule of thumb is: **accuracy never helps in imbalanced dataset**.\n",
        "\n",
        "* we have **99,6%** (553574) of non-fraud transactions and only **0,4%** (2145) of fraud transactions;\n",
        "\n",
        "* whis means that a blind guess (bet on non-fraud) would give us accuracy of **99,6%**.\n",
        "\n",
        "<br>\n",
        "\n",
        "While 99,6% accurate prediction can be considered great for most classification problems, fraud detection (and other imbalanced cases) is especially difficult, since a model prioritising Majority class will incure a large business cost by ignoring the fraudulant transactions.\n",
        "\n",
        "The most common metrics to use for imbalanced datasets are:\n",
        "\n",
        "* Precision\n",
        "* Recall\n",
        "* F1 score\n",
        "* AUC score (AUC ROC)\n",
        "\n",
        "It is good practice to track multiple metrics when developing a machine learning model as each highlights different aspects of model performance."
      ]
    },
    {
      "cell_type": "markdown",
      "metadata": {
        "id": "bORgHYQG4rW7"
      },
      "source": [
        "Today we will have a look at two metrics, **Recall** and **Precision**. To understand those it makes sense to understand a bit about the **Confusion Matrix**.\n",
        "\n",
        "* A **confusion matrix**, is a matrix of numbers that tell us where a model gets confused. It is a class-wise distribution of the predictive performance of a classification model. **The confusion matrix** is an organized way of mapping the predictions to the original classes to which the data belong.\n",
        "* In binary classification problems (e.g., predicting only two outcomes, whether a transaction is fraudulent or not) there are four possible mappings:\n",
        "  * Transaction is not fraudulent and we predict it as not fraudulent\n",
        "  * Transaction is not fraudulent and we predicti it as fraudulent\n",
        "  * Transaction is fraudulent and we predict it as fraudulent\n",
        "  * Transaction is fraudulent and we predict it as not fraudulent\n",
        "\n",
        "<br>\n",
        "\n",
        "  ![jupyter.png](https://www.researchgate.net/publication/311357951/figure/fig10/AS:439273339002889@1481742333854/Confusion-matrix-sample-with-descriptions.png)\n",
        "\n",
        "<br>\n",
        "\n",
        "Based on this matrix we can define 4 main metrics to judge how a model is performing (this approach is agnostic to the algorithm selected and can be employed when using logistic regression or deep learning):\n",
        "* **Accuracy** - the overall metric on how correct the model is performing, i.e. how many correct assumptions the model makes irespective of whether it is a fraud or not.\n",
        "* **Recall** - the fraction of relevant instances that were retrieved, i.e. the portion of all fraud instances that are correctly identified as fraud\n",
        "* **Precision** -  the fraction of relevant instances among the retrieved instances, i.e., from all the fraud instances that are identified as fraud how many are actually fraud\n",
        "* **Specificity** - the fraction of negative elements that were retrieved, i.e. the portion of all the not fraud instances that are correctly identidied not fraud instances\n",
        "\n",
        "![jupyter.png](https://www.researchgate.net/publication/328148379/figure/fig1/AS:679514740895744@1539020347601/Model-performance-metrics-Visual-representation-of-the-classification-model-metrics.png)"
      ]
    },
    {
      "cell_type": "markdown",
      "metadata": {
        "id": "S3m4cRU14rW7"
      },
      "source": [
        "### ML Model Training\n",
        "\n",
        "**Data split into train and test**\n",
        "\n",
        "The aim of supervised machine learning is to build a model that predicts well on new data, i.e., a model that can use the past data + the statistical likelihood function and generalize to unseen future instances. We want to learn fraud patterns from past fraud cases and prevent them in the future by recognizing these patterns.\n",
        "\n",
        "The problem is that we do not have future data in the moment we train our models, however, we can simulate this experience with a procedure like the **train-test split**.\n",
        "\n",
        "* Train test split is a model validation process that allows you to simulate how your model would perform with new data.\n",
        "* For this proceedure we first split the data between our target variable (Y) and our predictor variables (X), we then further split these into training and testing sets. The aim of this proceedure is that model improvements are only done on the training set and final evaluation is done on the test set.\n",
        "\n",
        "![jupyter.png](https://builtin.com/sites/www.builtin.com/files/styles/ckeditor_optimize/public/inline-images/4_train-test-split.jpg)"
      ]
    },
    {
      "cell_type": "code",
      "execution_count": 95,
      "metadata": {
        "id": "JvO3tLLZ4rW7"
      },
      "outputs": [],
      "source": [
        "from sklearn.model_selection import train_test_split\n",
        "\n",
        "x = df_fin.drop('is_fraud', axis=1)\n",
        "y = df_fin['is_fraud']\n",
        "\n",
        "x_train, x_test, y_train, y_test = train_test_split(x, y, stratify=y, test_size = 0.2, random_state = 42)"
      ]
    },
    {
      "cell_type": "code",
      "execution_count": 96,
      "metadata": {
        "id": "yWtvTD1f4rW8"
      },
      "outputs": [],
      "source": [
        "from sklearn.model_selection import StratifiedKFold\n",
        "from sklearn.model_selection import cross_val_score\n",
        "from sklearn.linear_model import LogisticRegression\n",
        "from sklearn.ensemble import RandomForestClassifier"
      ]
    },
    {
      "cell_type": "markdown",
      "metadata": {
        "id": "gyzXK6m74rW8"
      },
      "source": [
        "**Logistic regression and RandomForest classifiers**\n",
        "\n",
        "* Logistic regression is a supervised machine learning algorithm used for classification tasks where the goal is to predict the probability of an instance of belonging to a given class (e.g., credit card transaction being fraudulent). It’s referred to as regression because it takes the output of the linear regression function as input and uses a sigmoid function to estimate the probability for the given class. Linear regression output is a continuous numeric value while logistic regression predicts the probability that an instance belongs to a given class or not.\n",
        "\n",
        "* Random forest is a supervised learning algorithm. The “forest” it builds is an ensemble of decision trees, usually trained with the bagging method. The general idea of the bagging method is that a combination of learning models increases the overall result. Random forest builds multiple decision trees and merges them together to get a more accurate and stable prediction.\n",
        "\n"
      ]
    },
    {
      "cell_type": "code",
      "execution_count": 97,
      "metadata": {
        "id": "fBEMZK5m4rW9"
      },
      "outputs": [],
      "source": [
        "rf = RandomForestClassifier(n_estimators = 50, random_state = 13)\n",
        "lr = LogisticRegression(solver='saga', random_state = 13)"
      ]
    },
    {
      "cell_type": "markdown",
      "metadata": {
        "id": "hexJZh294rW9"
      },
      "source": [
        "**Crossvalidation methods to improve model selection**\n",
        "\n",
        "![jupyter.png](https://miro.medium.com/v2/resize:fit:720/1*chD302ssE0O62wreunGp4A.jpeg)"
      ]
    },
    {
      "cell_type": "code",
      "execution_count": null,
      "metadata": {
        "colab": {
          "base_uri": "https://localhost:8080/"
        },
        "id": "OCWmbw094rW9",
        "outputId": "98b13d85-93be-41b8-ec0b-fa970bbd1670"
      },
      "outputs": [],
      "source": [
        "kf = StratifiedKFold(n_splits=2, shuffle=False)\n",
        "\n",
        "score_lr = cross_val_score(lr, x_train, y_train, cv=kf, scoring='recall')\n",
        "print(\"Cross Validation Recall scores for LogRegression are: {}\".format(score_lr))\n",
        "print(\"Average Cross Validation Recall score for LogRegression: {}\".format(score_lr.mean()))\n",
        "\n",
        "\n",
        "score_rf = cross_val_score(rf, x_train, y_train, cv=kf, scoring='recall')\n",
        "print(\"Cross Validation Recall scores for RandomForest are: {}\".format(score_rf))\n",
        "print(\"Average Cross Validation Recall score for RandomForest: {}\".format(score_rf.mean()))"
      ]
    },
    {
      "cell_type": "markdown",
      "metadata": {
        "id": "Exqc8wj44rW9"
      },
      "source": [
        "**Grid search for parameter tunning**\n",
        "\n",
        "A Machine Learning model is defined as a mathematical model with a number of parameters that need to be learned from the data. By training a model with existing data, we are able to fit the model parameters.\n",
        "However, there is another kind of parameter, known as Hyperparameters, that cannot be directly learned from the regular training process. They are usually fixed before the actual training process begins. These parameters express important properties of the model such as its complexity or how fast it should learn. Some examples are:\n",
        "\n",
        "* The penalty in Logistic Regression Classifier i.e. L1 or L2 regularization\n",
        "* Number of estimators in Random Forest models\n",
        "* The C and sigma hyperparameters for support vector machines\n",
        "* The learning rate for training a neural network\n",
        "\n",
        "\n",
        "\n",
        "![jupyter.png](https://res.cloudinary.com/canonical/image/fetch/f_auto,q_auto,fl_sanitize,c_fill,w_720/https://ubuntu.com/wp-content/uploads/1ddb/11_Capture.jpg)\n",
        "\n",
        "\n",
        "\n"
      ]
    },
    {
      "cell_type": "code",
      "execution_count": 99,
      "metadata": {
        "id": "Ci7q_T6T4rW9"
      },
      "outputs": [],
      "source": [
        "from sklearn.model_selection import GridSearchCV\n",
        "\n",
        "params = {\n",
        "    'n_estimators': [25, 50, 75],\n",
        "    'max_depth': [2, 4, 6],\n",
        "    'random_state': [13]\n",
        "}\n",
        "\n",
        "grid_rf = GridSearchCV(rf, param_grid=params, cv=kf,\n",
        "                          scoring='recall').fit(x_train, y_train)"
      ]
    },
    {
      "cell_type": "code",
      "execution_count": null,
      "metadata": {
        "colab": {
          "base_uri": "https://localhost:8080/"
        },
        "id": "6YfMGSeb4rW-",
        "outputId": "f9a7b0ba-5615-4bff-e693-782ac76850f8"
      },
      "outputs": [],
      "source": [
        "params_lr = {\n",
        "    'C': [1, 10, 50],\n",
        "    'penalty': [\"l1\", \"l2\"],\n",
        "    'random_state': [13]\n",
        "}\n",
        "\n",
        "grid_lr = GridSearchCV(lr, param_grid=params_lr, cv=kf,\n",
        "                          scoring='recall').fit(x_train, y_train)"
      ]
    },
    {
      "cell_type": "markdown",
      "metadata": {
        "id": "KnxOTBI74rW-"
      },
      "source": [
        "We calculate **Confustion Matrix** from our predictions on the x_test set and y_test set. This is done since we are mostly interested in how the model performes on 'unseen' data that is found in our teste sets.\n",
        "\n",
        "Afterwards we create **Confustion Matrix** plots for our selected models:"
      ]
    },
    {
      "cell_type": "markdown",
      "metadata": {
        "id": "1FViRcY7Q8Se"
      },
      "source": [
        "**Random Forest model**"
      ]
    },
    {
      "cell_type": "code",
      "execution_count": null,
      "metadata": {
        "colab": {
          "base_uri": "https://localhost:8080/"
        },
        "id": "-A9Ght1D4rW-",
        "outputId": "7c404693-5f14-40ea-cbe7-0de4ef92003e"
      },
      "outputs": [],
      "source": [
        "y_pred = grid_rf.predict(x_test)\n",
        "\n",
        "from sklearn.metrics import confusion_matrix, recall_score, precision_score, f1_score, accuracy_score, ConfusionMatrixDisplay\n",
        "cm = confusion_matrix(y_test, y_pred)\n",
        "cm"
      ]
    },
    {
      "cell_type": "code",
      "execution_count": null,
      "metadata": {
        "colab": {
          "base_uri": "https://localhost:8080/",
          "height": 550
        },
        "id": "lalL7FFy4rW-",
        "outputId": "90770b12-6be0-4dc9-d2b4-f5452ecaaa83"
      },
      "outputs": [],
      "source": [
        "ax = sns.heatmap(cm, annot=True, square=True, cmap='Blues', fmt='g')\n",
        "ax.set_xlabel('Predicted')\n",
        "ax.set_ylabel('Actual')\n",
        "plt.show()"
      ]
    },
    {
      "cell_type": "markdown",
      "metadata": {
        "id": "DMg6FEMERBHH"
      },
      "source": [
        "**Linear Regression Model**"
      ]
    },
    {
      "cell_type": "code",
      "execution_count": null,
      "metadata": {
        "colab": {
          "base_uri": "https://localhost:8080/"
        },
        "id": "VuZJbRiz4rW-",
        "outputId": "3053c415-d4b3-4cce-ceee-951f4e2f90ff"
      },
      "outputs": [],
      "source": [
        "y_pred_lr = grid_lr.predict(x_test)\n",
        "\n",
        "cm_lr = confusion_matrix(y_test, y_pred_lr)\n",
        "cm_lr"
      ]
    },
    {
      "cell_type": "code",
      "execution_count": null,
      "metadata": {
        "colab": {
          "base_uri": "https://localhost:8080/",
          "height": 550
        },
        "id": "peWkQqUT4rW-",
        "outputId": "b9c85c2b-87a0-4ae8-b796-067bbbafe2a2"
      },
      "outputs": [],
      "source": [
        "ax = sns.heatmap(cm_lr, annot=True, square=True, cmap='Blues', fmt='g')\n",
        "ax.set_xlabel('Predicted')\n",
        "ax.set_ylabel('Actual')\n",
        "plt.show()"
      ]
    },
    {
      "cell_type": "code",
      "execution_count": null,
      "metadata": {
        "colab": {
          "base_uri": "https://localhost:8080/",
          "height": 81
        },
        "id": "-aTNUJm74rW_",
        "outputId": "ced0551d-1bde-450e-8e09-d13ca7c89ef0"
      },
      "outputs": [],
      "source": [
        "rf_Recall = recall_score(y_test, y_pred)\n",
        "rf_Precision = precision_score(y_test, y_pred)\n",
        "rf_f1 = f1_score(y_test, y_pred)\n",
        "rf_accuracy = accuracy_score(y_test, y_pred)\n",
        "\n",
        "ndf = [(rf_Recall, rf_Precision, rf_f1, rf_accuracy)]\n",
        "\n",
        "rf_score = pd.DataFrame(data = ndf, columns=['Recall','Precision','F1 Score', 'Accuracy'])\n",
        "rf_score.insert(0, 'Random Forest with', 'No Under/Oversampling')\n",
        "rf_score"
      ]
    },
    {
      "cell_type": "markdown",
      "metadata": {
        "id": "hdASzIJi4rW_"
      },
      "source": [
        "**Oversampling**\n",
        "\n",
        "Resampling involves creating a new transformed version of the training dataset in which the selected examples have a different class distribution.\n",
        "\n",
        "There are two main approaches to random resampling for imbalanced classification; they are oversampling and undersampling.\n",
        "\n",
        "* Random Oversampling: Randomly duplicate examples in the minority class.\n",
        "* Random Undersampling: Randomly delete examples in the majority class.\n",
        "\n",
        "They are referred to as “naive resampling” methods because they assume nothing about the data and no heuristics are used. This makes them simple to implement and fast to execute, which is **desirable for very large and complex datasets**.\n",
        "\n",
        "#### Important\n",
        "Change to the class distribution should be only applied to the **training dataset**. The intent is to influence the fit of the models. The resampling is not applied to the test or holdout dataset used to evaluate the performance of a model.\n",
        "\n",
        "![jupyter.png](https://miro.medium.com/v2/resize:fit:725/1*7xf9e1EaoK5n05izIFBouA.png)\n",
        "\n",
        "<br>\n",
        "\n",
        "To implement oversampling we use the imblearn package from"
      ]
    },
    {
      "cell_type": "code",
      "execution_count": 106,
      "metadata": {
        "id": "bt7wH8nJ4rW_"
      },
      "outputs": [],
      "source": [
        "from imblearn.over_sampling import RandomOverSampler\n",
        "# define oversampling strategy\n",
        "ros = RandomOverSampler(random_state=42)"
      ]
    },
    {
      "cell_type": "code",
      "execution_count": 107,
      "metadata": {
        "id": "9DOlhHcC4rW_"
      },
      "outputs": [],
      "source": [
        "# fit and apply the transform\n",
        "x_over, y_over = ros.fit_resample(x_train, y_train)"
      ]
    },
    {
      "cell_type": "code",
      "execution_count": null,
      "metadata": {
        "colab": {
          "base_uri": "https://localhost:8080/"
        },
        "id": "J6tojQJv4rW_",
        "outputId": "5e6eaf63-99d7-47ad-f429-31256045323e"
      },
      "outputs": [],
      "source": [
        "print('Not-fraud:', y_over.value_counts()[0], '/', round(y_over.value_counts()[0]/len(y_over) * 100,2), '% of the dataset')\n",
        "print('Frauds:', y_over.value_counts()[1], '/',round(y_over.value_counts()[1]/len(y_over) * 100,2), '% of the dataset')"
      ]
    },
    {
      "cell_type": "code",
      "execution_count": 109,
      "metadata": {
        "id": "oDjB_pbT4rXA"
      },
      "outputs": [],
      "source": [
        "from imblearn.pipeline import Pipeline, make_pipeline\n",
        "\n",
        "random_overs_pipeline_rf = make_pipeline(RandomOverSampler(random_state=42),\n",
        "                                         RandomForestClassifier(n_estimators=50, random_state=13))"
      ]
    },
    {
      "cell_type": "code",
      "execution_count": null,
      "metadata": {
        "colab": {
          "base_uri": "https://localhost:8080/"
        },
        "id": "Gxi5XBIo4rXA",
        "outputId": "f0bfa311-69db-4e3c-dfc6-3ecdc07b7dd1"
      },
      "outputs": [],
      "source": [
        "score_os_rf = cross_val_score(random_overs_pipeline_rf, x_train, y_train, scoring='recall', cv=kf)\n",
        "print(\"Cross Validation Recall Scores are: {}\".format(score_os_rf))\n",
        "print(\"Average Cross Validation Recall score: {}\".format(score_os_rf.mean()))"
      ]
    },
    {
      "cell_type": "code",
      "execution_count": null,
      "metadata": {
        "colab": {
          "base_uri": "https://localhost:8080/",
          "height": 152
        },
        "id": "57PCrRjY4rXA",
        "outputId": "e33203c1-dda9-41a2-c32c-1245a8628e63"
      },
      "outputs": [],
      "source": [
        "new_params = {'randomforestclassifier__' + key: params[key] for key in params}\n",
        "grid_os_rf = GridSearchCV(random_overs_pipeline_rf, param_grid=new_params, cv=kf, scoring='recall',\n",
        "                        return_train_score=True)\n",
        "grid_os_rf.fit(x_train, y_train)"
      ]
    },
    {
      "cell_type": "markdown",
      "metadata": {
        "id": "4So8X7-WfBmF"
      },
      "source": [
        "**Comparison between normal and oversampled instances**"
      ]
    },
    {
      "cell_type": "code",
      "execution_count": null,
      "metadata": {
        "colab": {
          "base_uri": "https://localhost:8080/"
        },
        "id": "50HJe6mA4rXA",
        "outputId": "6bcdcd10-c971-4574-b493-d91e6f7e0bb9"
      },
      "outputs": [],
      "source": [
        "y_pred_os = grid_os_rf.best_estimator_.named_steps['randomforestclassifier'].predict(x_test)\n",
        "cm_os = confusion_matrix(y_test, y_pred_os)\n",
        "cm_os"
      ]
    },
    {
      "cell_type": "code",
      "execution_count": null,
      "metadata": {
        "colab": {
          "base_uri": "https://localhost:8080/",
          "height": 550
        },
        "id": "sLqOql-P4rXA",
        "outputId": "48b5d082-8c2a-4cd9-e1b7-26a43f60b3ec"
      },
      "outputs": [],
      "source": [
        "ax = sns.heatmap(cm_os, annot=True, square=True, cmap='Blues', fmt='g')\n",
        "ax.set_xlabel('Predicted')\n",
        "ax.set_ylabel('Actual')\n",
        "plt.show()"
      ]
    },
    {
      "cell_type": "code",
      "execution_count": null,
      "metadata": {
        "colab": {
          "base_uri": "https://localhost:8080/",
          "height": 550
        },
        "id": "9Z0YV2yL4rXB",
        "outputId": "c4ed3900-6b22-47e4-fb2c-0bac363446d9"
      },
      "outputs": [],
      "source": [
        "ax = sns.heatmap(cm, annot=True, square=True, cmap='Blues', fmt='g')\n",
        "ax.set_xlabel('Predicted')\n",
        "ax.set_ylabel('Actual')\n",
        "plt.show()"
      ]
    },
    {
      "cell_type": "code",
      "execution_count": 115,
      "metadata": {
        "id": "di2LsPIm4rXB"
      },
      "outputs": [],
      "source": [
        "over_rf_Recall = recall_score(y_test, y_pred_os)\n",
        "over_rf_Precision = precision_score(y_test, y_pred_os)\n",
        "over_rf_f1 = f1_score(y_test, y_pred_os)\n",
        "over_rf_accuracy = accuracy_score(y_test, y_pred_os)"
      ]
    },
    {
      "cell_type": "code",
      "execution_count": null,
      "metadata": {
        "colab": {
          "base_uri": "https://localhost:8080/",
          "height": 81
        },
        "id": "XiM0DFUV4rXB",
        "outputId": "8a5599f9-a724-4857-ffe9-a1dbcaa637da"
      },
      "outputs": [],
      "source": [
        "ndf = [(over_rf_Recall, over_rf_Precision, over_rf_f1, over_rf_accuracy)]\n",
        "\n",
        "over_rf_score = pd.DataFrame(data = ndf, columns=['Recall','Precision','F1 Score', 'Accuracy'])\n",
        "over_rf_score.insert(0, 'Random Forest with', 'Random Oversampling')\n",
        "over_rf_score"
      ]
    },
    {
      "cell_type": "markdown",
      "metadata": {
        "id": "dj0uDmdxfQhe"
      },
      "source": [
        "**Random undersampling** involves randomly selecting examples from the majority class to delete from the training dataset. This approach may be more suitable for those datasets where there is a class imbalance although a sufficient number of examples in the minority class, such a useful model can be fit."
      ]
    },
    {
      "cell_type": "code",
      "execution_count": null,
      "metadata": {
        "colab": {
          "base_uri": "https://localhost:8080/",
          "height": 551
        },
        "id": "9Rns1nUl4rXC",
        "outputId": "c19e064b-355f-4c89-cdef-216002975c87"
      },
      "outputs": [],
      "source": [
        "ax = sns.countplot(x='is_fraud',data=df_fin,palette=\"pastel\")\n",
        "for i in ax.containers:\n",
        "    ax.bar_label(i,)"
      ]
    },
    {
      "cell_type": "markdown",
      "metadata": {
        "id": "AaHwDvOr4rXC"
      },
      "source": [
        "Our data only has 2145 instances of the minority class this would result in massively reducing our data set to accmodate the undersampling. In this instance it would be advised to avoid this technique (regardless this can always be tested to provide empirical evidence)"
      ]
    },
    {
      "cell_type": "markdown",
      "metadata": {
        "id": "gmo1MHyG4rXC"
      },
      "source": [
        "**SMOTE (Synthetic Minority Oversampling Technique)** synthesize elements for the minority class. SMOTE works by selecting examples that are close in the feature space, drawing a line between the examples in the feature space and drawing a new sample at a point along that line.\n",
        "\n",
        "In general SMOTE is a better approach than Oversampling but introduces extra layers of \"black-boxing\" - it is harder to explain when interpretable ML is needed. This is also beyond the scope of this exrecise."
      ]
    },
    {
      "cell_type": "markdown",
      "metadata": {
        "id": "M7NBIiD_4rXC"
      },
      "source": [
        "**Class weights as an alternative**\n",
        "\n",
        "Most of the machine learning models provide a parameter called class_weights. For example, in a random forest classifier using, class_weights we can specify a higher weight for the minority class using a dictionary.\n",
        "\n",
        "Without weights set, the model treats each point as equally important. Weights scale the loss function. As the model trains on each point, the error will be multiplied by the weight of the point. The estimator will try to minimize error on the more heavily weighted classes, because they will have a greater effect on error, sending a stronger signal."
      ]
    },
    {
      "cell_type": "code",
      "execution_count": 118,
      "metadata": {
        "id": "PZ_4ZYT-4rXC"
      },
      "outputs": [],
      "source": [
        "# If you choose class_weight = \"balanced\",\n",
        "# the classes will be weighted inversely proportional to how frequently they appear in the data.\n",
        "\n",
        "rfb = RandomForestClassifier(n_estimators=100, random_state=13, class_weight=\"balanced\")"
      ]
    },
    {
      "cell_type": "code",
      "execution_count": null,
      "metadata": {
        "colab": {
          "base_uri": "https://localhost:8080/"
        },
        "id": "nJBSAC0Y4rXC",
        "outputId": "f24d78d6-11d5-4b88-d66d-49cfd77c4c09"
      },
      "outputs": [],
      "source": [
        "score_b = cross_val_score(rfb, x_train, y_train, cv=kf, scoring='recall')\n",
        "print(\"Cross Validation Recall scores are: {}\".format(score_b))\n",
        "print(\"Average Cross Validation Recall score: {}\".format(score_b.mean()))"
      ]
    },
    {
      "cell_type": "code",
      "execution_count": 120,
      "metadata": {
        "id": "yxc-h9pz4rXD"
      },
      "outputs": [],
      "source": [
        "grid_rfb = GridSearchCV(rfb, param_grid=params, cv=kf,\n",
        "                          scoring='recall').fit(x_train, y_train)"
      ]
    },
    {
      "cell_type": "code",
      "execution_count": null,
      "metadata": {
        "colab": {
          "base_uri": "https://localhost:8080/"
        },
        "id": "arvoDhzU4rXE",
        "outputId": "2c63ac4b-7e21-441a-ef71-31c17389c20f"
      },
      "outputs": [],
      "source": [
        "y_pred_b = grid_rfb.predict(x_test)\n",
        "\n",
        "cm_b = confusion_matrix(y_test, y_pred_b)\n",
        "\n",
        "grid_rfb_Recall = recall_score(y_test, y_pred_b)\n",
        "grid_rfb_Precision = precision_score(y_test, y_pred_b)\n",
        "grid_rfb_f1 = f1_score(y_test, y_pred_b)\n",
        "grid_rfb_accuracy = accuracy_score(y_test, y_pred_b)\n",
        "\n",
        "cm_b"
      ]
    },
    {
      "cell_type": "code",
      "execution_count": null,
      "metadata": {
        "colab": {
          "base_uri": "https://localhost:8080/",
          "height": 550
        },
        "id": "nLeMmdvW4rXE",
        "outputId": "6ca1673e-c843-4d2f-fa87-a7253de0f871"
      },
      "outputs": [],
      "source": [
        "ax = sns.heatmap(cm_b, annot=True, square=True, cmap='Blues', fmt='g')\n",
        "ax.set_xlabel('Predicted')\n",
        "ax.set_ylabel('Actual')\n",
        "plt.show()"
      ]
    },
    {
      "cell_type": "code",
      "execution_count": null,
      "metadata": {
        "colab": {
          "base_uri": "https://localhost:8080/",
          "height": 81
        },
        "id": "Cb_xZiRG4rXE",
        "outputId": "0a65e782-ddb4-4579-9369-bb9094785114"
      },
      "outputs": [],
      "source": [
        "ndf = [(grid_rfb_Recall, grid_rfb_Precision, grid_rfb_f1, grid_rfb_accuracy)]\n",
        "\n",
        "grid_rfb_score = pd.DataFrame(data = ndf, columns=['Recall','Precision','F1 Score', 'Accuracy'])\n",
        "grid_rfb_score.insert(0, 'Random Forest with', 'Class weights')\n",
        "grid_rfb_score"
      ]
    },
    {
      "cell_type": "code",
      "execution_count": null,
      "metadata": {
        "colab": {
          "base_uri": "https://localhost:8080/",
          "height": 143
        },
        "id": "NZPhoMhx4rXE",
        "outputId": "234f70bd-89a1-4b6c-dbff-36c31462a5b8"
      },
      "outputs": [],
      "source": [
        "predictions = pd.concat([rf_score, over_rf_score, grid_rfb_score], ignore_index=True, sort=False)\n",
        "\n",
        "predictions.sort_values(by=['Recall'], ascending=False)"
      ]
    },
    {
      "cell_type": "markdown",
      "metadata": {
        "id": "4panCJwQ4rXF"
      },
      "source": [
        "**Performance comparison**\n",
        "\n",
        "We can achieve the best results in terms of recall with Random Oversampling, Class Weights being a close second. It is important to note that this costs us a lot in terms of Precission (we identify more false positives). This is finally visible in the total Accuracy metrics, with addressing the class imbalance we loose about 2-3% points of accuracy.\n",
        "\n",
        "In the end the final model selection is a business or domain specific decision - 2.6% cost in overall accuracy might be justified to identify 90% of all fraud instances."
      ]
    },
    {
      "cell_type": "markdown",
      "metadata": {
        "id": "2YNID7__4rXF"
      },
      "source": [
        "**Final note** there are other ways to optimise classification models\n",
        "* we can use different selection metrics (outside of recall):\n",
        "  * AUC (Area Under The Curve) ROC (Receiver Operating Characteristics) curve. ROC is a probability curve and AUC represents the degree or measure of separability. It tells how much the model is capable of distinguishing between classes. Higher the AUC, the better the model is at predicting 0 classes as 0 and 1 classes as 1.\n",
        "* we can select different thresholds (probability score at which we classify an observation as 1 or 0), for our current models we classify probability > 0.5 as 1 and everything else as 0. Adjusting this value can be beneficial in increasing our accuracy in predicting the minority class."
      ]
    },
    {
      "cell_type": "markdown",
      "metadata": {
        "id": "OXARrLOp91LT"
      },
      "source": [
        "## Optional Exercise\n",
        "\n",
        "Exercise, using the fraud data set and examples from tje machine learning workflow try to improve upon the weighted class model used before:\n",
        "\n",
        "* Try to look at different values in the parameters to improve accuracy"
      ]
    },
    {
      "cell_type": "code",
      "execution_count": null,
      "metadata": {
        "id": "JOWrMd7X90sp"
      },
      "outputs": [],
      "source": [
        "rfb = RandomForestClassifier(n_estimators=<...>, random_state=<...>, class_weight=\"balanced\") # add values"
      ]
    },
    {
      "cell_type": "code",
      "execution_count": null,
      "metadata": {
        "id": "NoOwILhO-lo7"
      },
      "outputs": [],
      "source": [
        "kf = StratifiedKFold(n_splits=<...>, shuffle=False) # add values"
      ]
    },
    {
      "cell_type": "code",
      "execution_count": null,
      "metadata": {
        "id": "Ve2f-Ks0_Xb7"
      },
      "outputs": [],
      "source": [
        "score_b = cross_val_score(rfb, x_train, y_train, cv=kf, scoring='recall')\n",
        "print(\"Cross Validation Recall scores are: {}\".format(score_b))\n",
        "print(\"Average Cross Validation Recall score: {}\".format(score_b.mean()))"
      ]
    },
    {
      "cell_type": "code",
      "execution_count": null,
      "metadata": {
        "id": "HJiZ8AsB-3ia"
      },
      "outputs": [],
      "source": [
        "from sklearn.model_selection import GridSearchCV\n",
        "\n",
        "params = {\n",
        "    'n_estimators': [...], # add values\n",
        "    'max_depth': [...], # add values\n",
        "    'random_state': [...] # add values\n",
        "}\n",
        "\n",
        "grid_rfb = GridSearchCV(rfb, param_grid=params, cv=kf,\n",
        "                          scoring='recall').fit(x_train, y_train)"
      ]
    },
    {
      "cell_type": "code",
      "execution_count": null,
      "metadata": {
        "id": "0g5f0E3Q-l-t"
      },
      "outputs": [],
      "source": [
        "# Get Predictions from your model\n",
        "# <your code here>"
      ]
    },
    {
      "cell_type": "code",
      "execution_count": null,
      "metadata": {
        "id": "KCAHkFtW-fq-"
      },
      "outputs": [],
      "source": [
        "# Calculate the confusion matrix\n",
        "# <your code here>"
      ]
    },
    {
      "cell_type": "code",
      "execution_count": null,
      "metadata": {
        "id": "f_I6dQSW_oO6"
      },
      "outputs": [],
      "source": [
        "# Visualize the confusion matrix\n",
        "# <your code here>"
      ]
    },
    {
      "cell_type": "code",
      "execution_count": null,
      "metadata": {
        "id": "Jj5jsMYH_uTi"
      },
      "outputs": [],
      "source": [
        "# Calculate other classification metrics\n",
        "# <your code here>"
      ]
    }
  ],
  "metadata": {
    "colab": {
      "provenance": [],
      "toc_visible": true
    },
    "kernelspec": {
      "display_name": "Python 3.9.13 64-bit ('3.9.13')",
      "language": "python",
      "name": "python3"
    },
    "language_info": {
      "codemirror_mode": {
        "name": "ipython",
        "version": 3
      },
      "file_extension": ".py",
      "mimetype": "text/x-python",
      "name": "python",
      "nbconvert_exporter": "python",
      "pygments_lexer": "ipython3",
      "version": "3.9.13"
    },
    "orig_nbformat": 4,
    "vscode": {
      "interpreter": {
        "hash": "2d012f32b836557036a3adf6360717b893558f696827d6dbbedb88acd97be08e"
      }
    }
  },
  "nbformat": 4,
  "nbformat_minor": 0
}
